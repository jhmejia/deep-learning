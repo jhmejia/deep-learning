{
  "cells": [
    {
      "cell_type": "markdown",
      "metadata": {
        "id": "view-in-github",
        "colab_type": "text"
      },
      "source": [
        "<a href=\"https://colab.research.google.com/github/jhmejia/deep-learning/blob/main/HW4_Part_1_Deep_NN_Full_Numpy_Implementation.ipynb\" target=\"_parent\"><img src=\"https://colab.research.google.com/assets/colab-badge.svg\" alt=\"Open In Colab\"/></a>"
      ]
    },
    {
      "cell_type": "markdown",
      "metadata": {
        "id": "WIQSKoOgR9h-"
      },
      "source": [
        "# Implementing Deep Neural Network Using Full Numpy\n",
        "\n",
        "This is the first program of homework 4. To build your cat/not-a-cat classifier, you'll use the functions from the previous homework to build a deep network. Hopefully, you'll see an improvement in accuracy over your previous logistic regression implementation.  \n",
        "\n",
        "**After this homework you will be able to:**\n",
        "\n",
        "- Build and train a deep L-layer neural network, and apply it to supervised learning\n",
        "\n",
        "Let's get started!"
      ]
    },
    {
      "cell_type": "markdown",
      "source": [
        "First we will need to download some external resources from GitHub. Run the cell below."
      ],
      "metadata": {
        "id": "p6JmghUbj93Y"
      }
    },
    {
      "cell_type": "code",
      "source": [
        "!git clone https://github.com/tcuseniordesign/deep-learning-hw4.git"
      ],
      "metadata": {
        "colab": {
          "base_uri": "https://localhost:8080/"
        },
        "id": "An2vDyy3j_sc",
        "outputId": "1c5786fe-3bb5-4214-ba5c-0c0c67c96e14"
      },
      "execution_count": null,
      "outputs": [
        {
          "output_type": "stream",
          "name": "stdout",
          "text": [
            "Cloning into 'deep-learning-hw4'...\n",
            "remote: Enumerating objects: 15, done.\u001b[K\n",
            "remote: Counting objects: 100% (15/15), done.\u001b[K\n",
            "remote: Compressing objects: 100% (15/15), done.\u001b[K\n",
            "remote: Total 15 (delta 0), reused 15 (delta 0), pack-reused 0\u001b[K\n",
            "Unpacking objects: 100% (15/15), done.\n"
          ]
        }
      ]
    },
    {
      "cell_type": "markdown",
      "source": [
        "Then we need to move the resources to the current directory. Run the cell below."
      ],
      "metadata": {
        "id": "Cd8emuTykEyg"
      }
    },
    {
      "cell_type": "code",
      "source": [
        "import shutil\n",
        "import os\n",
        "\n",
        "source_dir = '/content/deep-learning-hw4'\n",
        "target_dir = '/content'\n",
        "\n",
        "file_names = os.listdir(source_dir)\n",
        "\n",
        "for file_name in file_names:\n",
        "    shutil.move(os.path.join(source_dir, file_name), target_dir)\n",
        "\n",
        "os.rmdir('/content/deep-learning-hw4')"
      ],
      "metadata": {
        "id": "fH35UltPkH_T"
      },
      "execution_count": null,
      "outputs": []
    },
    {
      "cell_type": "markdown",
      "metadata": {
        "id": "56WbOqBHR9iB"
      },
      "source": [
        "## Table of Contents\n",
        "- [1 - Packages](#1)\n",
        "- [2 - Load and Process the Dataset](#2)\n",
        "- [3 - Model Architecture](#3)\n",
        "    - [3.1 - 2-layer Neural Network](#3-1)\n",
        "    - [3.2 - L-layer Deep Neural Network](#3-2)\n",
        "    - [3.3 - General Methodology](#3-3)\n",
        "- [4 - Two-layer Neural Network](#4)\n",
        "    - [Exercise 1 - two_layer_model](#ex-1)\n",
        "    - [4.1 - Train the model](#4-1)\n",
        "- [5 - L-layer Neural Network](#5)\n",
        "    - [Exercise 2 - L_layer_model](#ex-2)\n",
        "    - [5.1 - Train the model](#5-1)\n",
        "- [6 - Results Analysis](#6)\n",
        "- [7 - Test with your own image (optional/ungraded exercise)](#7)"
      ]
    },
    {
      "cell_type": "markdown",
      "metadata": {
        "id": "YuF-ZOIOR9iB"
      },
      "source": [
        "<a name='1'></a>\n",
        "## 1 - Packages"
      ]
    },
    {
      "cell_type": "markdown",
      "metadata": {
        "id": "SCfLiZKDR9iC"
      },
      "source": [
        "Begin by importing all the packages you'll need during this homework.\n",
        "\n",
        "- [numpy](https://www.numpy.org/) is the fundamental package for scientific computing with Python.\n",
        "- [matplotlib](http://matplotlib.org) is a library to plot graphs in Python.\n",
        "- [h5py](http://www.h5py.org) is a common package to interact with a dataset that is stored on an H5 file.\n",
        "- [PIL](http://www.pythonware.com/products/pil/) and [scipy](https://www.scipy.org/) are used here to test your model with your own picture at the end.\n",
        "- `dnn_app_utils` provides the functions implemented in the \"HW3 Deep NN Modularized Approach\" homework to this notebook.\n",
        "- `np.random.seed(1)` is used to keep all the random function calls consistent. It helps grade your work - so please don't change it!"
      ]
    },
    {
      "cell_type": "code",
      "execution_count": null,
      "metadata": {
        "id": "20V5OzRuR9iC"
      },
      "outputs": [],
      "source": [
        "import time\n",
        "import numpy as np\n",
        "import h5py\n",
        "import matplotlib.pyplot as plt\n",
        "import scipy\n",
        "from PIL import Image\n",
        "from scipy import ndimage\n",
        "from dnn_app_utils import *\n",
        "from public_tests import *\n",
        "\n",
        "%matplotlib inline\n",
        "plt.rcParams['figure.figsize'] = (5.0, 4.0) # set default size of plots\n",
        "plt.rcParams['image.interpolation'] = 'nearest'\n",
        "plt.rcParams['image.cmap'] = 'gray'\n",
        "\n",
        "%load_ext autoreload\n",
        "%autoreload 2\n",
        "\n",
        "np.random.seed(1)"
      ]
    },
    {
      "cell_type": "markdown",
      "metadata": {
        "id": "olQeo4bWR9iD"
      },
      "source": [
        "<a name='2'></a>\n",
        "## 2 - Load and Process the Dataset\n",
        "\n",
        "You'll be using the same \"Cat vs non-Cat\" dataset as in \"HW1_Logistic_Regression\". The model you built back then had 70% test accuracy on classifying cat vs non-cat images. Hopefully, your new model will perform even better!\n",
        "\n",
        "**Problem Statement**: You are given a dataset (\"data.h5\") containing:\n",
        "    - a training set of `m_train` images labelled as cat (1) or non-cat (0)\n",
        "    - a test set of `m_test` images labelled as cat and non-cat\n",
        "    - each image is of shape (num_px, num_px, 3) where 3 is for the 3 channels (RGB).\n",
        "\n",
        "Let's get more familiar with the dataset. Load the data by running the cell below."
      ]
    },
    {
      "cell_type": "code",
      "execution_count": null,
      "metadata": {
        "id": "fB-jb-p0R9iE"
      },
      "outputs": [],
      "source": [
        "train_x_orig, train_y, test_x_orig, test_y, classes = load_data()"
      ]
    },
    {
      "cell_type": "markdown",
      "metadata": {
        "id": "pPgzzfYrR9iE"
      },
      "source": [
        "The following code will show you an image in the dataset. Feel free to change the index and re-run the cell multiple times to check out other images."
      ]
    },
    {
      "cell_type": "code",
      "execution_count": null,
      "metadata": {
        "colab": {
          "base_uri": "https://localhost:8080/",
          "height": 286
        },
        "id": "thujdxXsR9iF",
        "outputId": "56879f5c-20e4-4f0b-e098-708b572ca304"
      },
      "outputs": [
        {
          "output_type": "stream",
          "name": "stdout",
          "text": [
            "y = 0. It's a non-cat picture.\n"
          ]
        },
        {
          "output_type": "display_data",
          "data": {
            "text/plain": [
              "<Figure size 360x288 with 1 Axes>"
            ],
            "image/png": "[encoded data removed]"
          },
          "metadata": {
            "needs_background": "light"
          }
        }
      ],
      "source": [
        "# Example of a picture\n",
        "index = 10\n",
        "plt.imshow(train_x_orig[index])\n",
        "print (\"y = \" + str(train_y[0,index]) + \". It's a \" + classes[train_y[0,index]].decode(\"utf-8\") +  \" picture.\")"
      ]
    },
    {
      "cell_type": "code",
      "execution_count": null,
      "metadata": {
        "colab": {
          "base_uri": "https://localhost:8080/"
        },
        "id": "6boZnd4rR9iF",
        "outputId": "51b9cdcf-d2d2-4630-a58e-e32b772c0f22"
      },
      "outputs": [
        {
          "output_type": "stream",
          "name": "stdout",
          "text": [
            "Number of training examples: 209\n",
            "Number of testing examples: 50\n",
            "Each image is of size: (64, 64, 3)\n",
            "train_x_orig shape: (209, 64, 64, 3)\n",
            "train_y shape: (1, 209)\n",
            "test_x_orig shape: (50, 64, 64, 3)\n",
            "test_y shape: (1, 50)\n"
          ]
        }
      ],
      "source": [
        "# Explore your dataset\n",
        "m_train = train_x_orig.shape[0]\n",
        "num_px = train_x_orig.shape[1]\n",
        "m_test = test_x_orig.shape[0]\n",
        "\n",
        "print (\"Number of training examples: \" + str(m_train))\n",
        "print (\"Number of testing examples: \" + str(m_test))\n",
        "print (\"Each image is of size: (\" + str(num_px) + \", \" + str(num_px) + \", 3)\")\n",
        "print (\"train_x_orig shape: \" + str(train_x_orig.shape))\n",
        "print (\"train_y shape: \" + str(train_y.shape))\n",
        "print (\"test_x_orig shape: \" + str(test_x_orig.shape))\n",
        "print (\"test_y shape: \" + str(test_y.shape))"
      ]
    },
    {
      "cell_type": "markdown",
      "metadata": {
        "id": "MUtzDxx6R9iF"
      },
      "source": [
        "As usual, you reshape and standardize the images before feeding them to the network. The code is given in the cell below.\n",
        "\n",
        "<img src=\"https://raw.githubusercontent.com/tcuseniordesign/deep-learning-hw4/main/images/imvector.png\" style=\"width:450px;height:300px;\">\n",
        "<caption><center><font color='purple'><b>Figure 1</b>: Image to vector conversion.</font></center></caption>"
      ]
    },
    {
      "cell_type": "code",
      "execution_count": null,
      "metadata": {
        "colab": {
          "base_uri": "https://localhost:8080/"
        },
        "id": "VWrOtRsXR9iG",
        "outputId": "9d02b4e4-4aef-4c7a-bc01-3dd57e7803c6"
      },
      "outputs": [
        {
          "output_type": "stream",
          "name": "stdout",
          "text": [
            "train_x's shape: (12288, 209)\n",
            "test_x's shape: (12288, 50)\n"
          ]
        }
      ],
      "source": [
        "# Reshape the training and test examples\n",
        "train_x_flatten = train_x_orig.reshape(train_x_orig.shape[0], -1).T   # The \"-1\" makes reshape flatten the remaining dimensions\n",
        "test_x_flatten = test_x_orig.reshape(test_x_orig.shape[0], -1).T\n",
        "\n",
        "# Standardize data to have feature values between 0 and 1.\n",
        "train_x = train_x_flatten/255.\n",
        "test_x = test_x_flatten/255.\n",
        "\n",
        "print (\"train_x's shape: \" + str(train_x.shape))\n",
        "print (\"test_x's shape: \" + str(test_x.shape))"
      ]
    },
    {
      "cell_type": "markdown",
      "metadata": {
        "id": "x6G6phm8R9iG"
      },
      "source": [
        "**Note**:\n",
        "$12,288$ equals $64 \\times 64 \\times 3$, which is the size of one reshaped image vector."
      ]
    },
    {
      "cell_type": "markdown",
      "metadata": {
        "id": "_h2EsxBdR9iG"
      },
      "source": [
        "<a name='3'></a>\n",
        "## 3 - Model Architecture"
      ]
    },
    {
      "cell_type": "markdown",
      "metadata": {
        "id": "6RE0VhUAR9iG"
      },
      "source": [
        "<a name='3-1'></a>\n",
        "### 3.1 - 2-layer Neural Network\n",
        "\n",
        "Now that you're familiar with the dataset, it's time to build a deep neural network to distinguish cat images from non-cat images!\n",
        "\n",
        "You're going to build two different models:\n",
        "\n",
        "- A 2-layer neural network\n",
        "- An L-layer deep neural network\n",
        "\n",
        "Then, you'll compare the performance of these models, and try out some different values for $L$.\n",
        "\n",
        "Let's look at the two architectures:\n",
        "\n",
        "<img src=\"https://raw.githubusercontent.com/tcuseniordesign/deep-learning-hw4/main/images/2layerNN.png\" style=\"width:650px;height:400px;\">\n",
        "<caption><center><font color='purple'><b>Figure 2</b>: 2-layer neural network. <br> The model can be summarized as: INPUT -> LINEAR -> RELU -> LINEAR -> SIGMOID -> OUTPUT.</font></center></caption>\n",
        "\n",
        "<u><b>Detailed Architecture of Figure 2</b></u>:\n",
        "- The input is a (64,64,3) image which is flattened to a vector of size $(12288,1)$.\n",
        "- The corresponding vector: $[x_0,x_1,...,x_{12287}]^T$ is then multiplied by the weight matrix $W^{[1]}$ of size $(n^{[1]}, 12288)$.\n",
        "- Then, add a bias term and take its ReLU to get the following vector: $[a_0^{[1]}, a_1^{[1]},..., a_{n^{[1]}-1}^{[1]}]^T$.\n",
        "- Repeat the same process.\n",
        "- Multiply the resulting vector by $W^{[2]}$ and add the intercept (bias).\n",
        "- Finally, take the sigmoid of the result. If it's greater than 0.5, classify it as a cat.\n",
        "\n",
        "<a name='3-2'></a>\n",
        "### 3.2 - L-layer Deep Neural Network\n",
        "\n",
        "It's pretty difficult to represent an L-layer deep neural network using the above representation. However, here is a simplified network representation:\n",
        "\n",
        "<img src=\"https://raw.githubusercontent.com/tcuseniordesign/deep-learning-hw4/main/images/LlayerNN.png\" style=\"width:650px;height:400px;\">\n",
        "<caption><center><font color='purple'><b>Figure 3</b>: L-layer neural network. <br> The model can be summarized as: [LINEAR -> RELU] $\\times$ (L-1) -> LINEAR -> SIGMOID</font></center></caption>\n",
        "\n",
        "<u><b>Detailed Architecture of Figure 3</b></u>:\n",
        "- The input is a (64,64,3) image which is flattened to a vector of size (12288,1).\n",
        "- The corresponding vector: $[x_0,x_1,...,x_{12287}]^T$ is then multiplied by the weight matrix $W^{[1]}$ and then you add the intercept $b^{[1]}$. The result is called the linear unit.\n",
        "- Next, take the ReLU of the linear unit. This process could be repeated several times for each $(W^{[l]}, b^{[l]})$ depending on the model architecture.\n",
        "- Finally, take the sigmoid of the final linear unit. If it is greater than 0.5, classify it as a cat.\n",
        "\n",
        "<a name='3-3'></a>\n",
        "### 3.3 - General Methodology\n",
        "\n",
        "As usual, you'll follow the Deep Learning methodology to build the model:\n",
        "\n",
        "1. Initialize parameters / Define hyperparameters\n",
        "2. Loop for num_iterations:\n",
        "    a. Forward propagation\n",
        "    b. Compute cost function\n",
        "    c. Backward propagation\n",
        "    d. Update parameters (using parameters, and grads from backprop)\n",
        "3. Use trained parameters to predict labels\n",
        "\n",
        "Now go ahead and implement those two models!"
      ]
    },
    {
      "cell_type": "markdown",
      "metadata": {
        "id": "is_d2WJoR9iH"
      },
      "source": [
        "<a name='4'></a>\n",
        "## 4 - Two-layer Neural Network\n",
        "\n",
        "<a name='ex-1'></a>\n",
        "### Exercise 1 - two_layer_model\n",
        "\n",
        "Use the helper functions you have implemented in the previous homework to build a 2-layer neural network with the following structure: *LINEAR -> RELU -> LINEAR -> SIGMOID*. The functions and their inputs are (no need to implement them, I have included them in dnn_app_utils.py file, feel free to take a look at those details):\n",
        "```python\n",
        "def initialize_parameters(n_x, n_h, n_y):\n",
        "    ...\n",
        "    return parameters\n",
        "def linear_activation_forward(A_prev, W, b, activation):\n",
        "    ...\n",
        "    return A, cache\n",
        "def compute_cost(AL, Y):\n",
        "    ...\n",
        "    return cost\n",
        "def linear_activation_backward(dA, cache, activation):\n",
        "    ...\n",
        "    return dA_prev, dW, db\n",
        "def update_parameters(parameters, grads, learning_rate):\n",
        "    ...\n",
        "    return parameters\n",
        "```"
      ]
    },
    {
      "cell_type": "code",
      "execution_count": null,
      "metadata": {
        "id": "PdZBMFX4R9iH"
      },
      "outputs": [],
      "source": [
        "### CONSTANTS DEFINING THE MODEL ####\n",
        "n_x = 12288     # num_px * num_px * 3\n",
        "n_h = 7\n",
        "n_y = 1\n",
        "layers_dims = (n_x, n_h, n_y)\n",
        "learning_rate = 0.0075"
      ]
    },
    {
      "cell_type": "code",
      "execution_count": null,
      "metadata": {
        "deletable": false,
        "nbgrader": {
          "cell_type": "code",
          "checksum": "db8e38ac17a149dc8e73efffd5cfbecf",
          "grade": false,
          "grade_id": "cell-46e7e26fe75ece95",
          "locked": false,
          "schema_version": 3,
          "solution": true,
          "task": false
        },
        "id": "rxz6qZ6fR9iH"
      },
      "outputs": [],
      "source": [
        "# GRADED FUNCTION: two_layer_model\n",
        "\n",
        "def two_layer_model(X, Y, layers_dims, learning_rate = 0.0075, num_iterations = 3000, print_cost=False):\n",
        "    \"\"\"\n",
        "    Implements a two-layer neural network: LINEAR->RELU->LINEAR->SIGMOID.\n",
        "\n",
        "    Arguments:\n",
        "    X -- input data, of shape (n_x, number of examples)\n",
        "    Y -- true \"label\" vector (containing 1 if cat, 0 if non-cat), of shape (1, number of examples)\n",
        "    layers_dims -- dimensions of the layers (n_x, n_h, n_y)\n",
        "    num_iterations -- number of iterations of the optimization loop\n",
        "    learning_rate -- learning rate of the gradient descent update rule\n",
        "    print_cost -- If set to True, this will print the cost every 100 iterations\n",
        "\n",
        "    Returns:\n",
        "    parameters -- a dictionary containing W1, W2, b1, and b2\n",
        "    \"\"\"\n",
        "\n",
        "    np.random.seed(1)\n",
        "    grads = {}\n",
        "    costs = []                              # to keep track of the cost\n",
        "    m = X.shape[1]                           # number of examples\n",
        "    (n_x, n_h, n_y) = layers_dims\n",
        "\n",
        "    # Initialize parameters dictionary, by calling one of the functions you'd previously implemented\n",
        "    #(≈ 1 line of code)\n",
        "    # parameters = ...\n",
        "    # YOUR CODE STARTS HERE\n",
        "\n",
        "\n",
        "    # YOUR CODE ENDS HERE\n",
        "\n",
        "    # Get W1, b1, W2 and b2 from the dictionary parameters.\n",
        "    W1 = parameters[\"W1\"]\n",
        "    b1 = parameters[\"b1\"]\n",
        "    W2 = parameters[\"W2\"]\n",
        "    b2 = parameters[\"b2\"]\n",
        "\n",
        "    # Loop (gradient descent)\n",
        "\n",
        "    for i in range(0, num_iterations):\n",
        "\n",
        "        # Forward propagation: LINEAR -> RELU -> LINEAR -> SIGMOID. Inputs: \"X, W1, b1, W2, b2\". Output: \"A1, cache1, A2, cache2\".\n",
        "        #(≈ 2 lines of code)\n",
        "        # A1, cache1 = ...\n",
        "        # A2, cache2 = ...\n",
        "        # YOUR CODE STARTS HERE\n",
        "\n",
        "\n",
        "        # YOUR CODE ENDS HERE\n",
        "\n",
        "        # Compute cost\n",
        "        #(≈ 1 line of code)\n",
        "        # cost = ...\n",
        "        # YOUR CODE STARTS HERE\n",
        "\n",
        "\n",
        "        # YOUR CODE ENDS HERE\n",
        "\n",
        "        # Initializing backward propagation\n",
        "        dA2 = - (np.divide(Y, A2) - np.divide(1 - Y, 1 - A2))\n",
        "\n",
        "        # Backward propagation. Inputs: \"dA2, cache2, cache1\". Outputs: \"dA1, dW2, db2; also dA0 (not used), dW1, db1\".\n",
        "        #(≈ 2 lines of code)\n",
        "        # dA1, dW2, db2 = ...\n",
        "        # dA0, dW1, db1 = ...\n",
        "        # YOUR CODE STARTS HERE\n",
        "\n",
        "\n",
        "        # YOUR CODE ENDS HERE\n",
        "\n",
        "        # Set grads['dWl'] to dW1, grads['db1'] to db1, grads['dW2'] to dW2, grads['db2'] to db2\n",
        "        grads['dW1'] = dW1\n",
        "        grads['db1'] = db1\n",
        "        grads['dW2'] = dW2\n",
        "        grads['db2'] = db2\n",
        "\n",
        "        # Update parameters.\n",
        "        #(approx. 1 line of code)\n",
        "        # parameters = ...\n",
        "        # YOUR CODE STARTS HERE\n",
        "\n",
        "\n",
        "        # YOUR CODE ENDS HERE\n",
        "\n",
        "        # Retrieve W1, b1, W2, b2 from parameters\n",
        "        W1 = parameters[\"W1\"]\n",
        "        b1 = parameters[\"b1\"]\n",
        "        W2 = parameters[\"W2\"]\n",
        "        b2 = parameters[\"b2\"]\n",
        "\n",
        "        # Print the cost every 100 iterations\n",
        "        if print_cost and i % 100 == 0 or i == num_iterations - 1:\n",
        "            print(\"Cost after iteration {}: {}\".format(i, np.squeeze(cost)))\n",
        "        if i % 100 == 0 or i == num_iterations:\n",
        "            costs.append(cost)\n",
        "\n",
        "    return parameters, costs\n",
        "\n",
        "def plot_costs(costs, learning_rate=0.0075):\n",
        "    plt.plot(np.squeeze(costs))\n",
        "    plt.ylabel('cost')\n",
        "    plt.xlabel('iterations (per hundreds)')\n",
        "    plt.title(\"Learning rate =\" + str(learning_rate))\n",
        "    plt.show()"
      ]
    },
    {
      "cell_type": "code",
      "execution_count": null,
      "metadata": {
        "deletable": false,
        "editable": false,
        "nbgrader": {
          "cell_type": "code",
          "checksum": "c4efa978eb920cd5de40eccf4c40c6e8",
          "grade": true,
          "grade_id": "cell-7599b81fb37ae26a",
          "locked": true,
          "points": 10,
          "schema_version": 3,
          "solution": false,
          "task": false
        },
        "id": "pZJA3vszR9iI"
      },
      "outputs": [],
      "source": [
        "parameters, costs = two_layer_model(train_x, train_y, layers_dims = (n_x, n_h, n_y), num_iterations = 2, print_cost=False)\n",
        "\n",
        "print(\"Cost after first iteration: \" + str(costs[0]))\n",
        "\n",
        "two_layer_model_test(two_layer_model)"
      ]
    },
    {
      "cell_type": "markdown",
      "metadata": {
        "id": "giFd26ymR9iI"
      },
      "source": [
        "**Expected output:**\n",
        "\n",
        "```\n",
        "cost after iteration 1 must be around 0.69\n",
        "```"
      ]
    },
    {
      "cell_type": "markdown",
      "metadata": {
        "id": "JEKAXfJRR9iI"
      },
      "source": [
        "<a name='4-1'></a>\n",
        "### 4.1 - Train the model\n",
        "\n",
        "If your code passed the previous cell, run the cell below to train your parameters.\n",
        "\n",
        "- The cost should decrease on every iteration.\n",
        "\n",
        "- It may take up to 5 minutes to run 2500 iterations."
      ]
    },
    {
      "cell_type": "code",
      "execution_count": null,
      "metadata": {
        "id": "BR8uqTGOR9iJ"
      },
      "outputs": [],
      "source": [
        "parameters, costs = two_layer_model(train_x, train_y, layers_dims = (n_x, n_h, n_y), num_iterations = 2500, print_cost=True)\n",
        "plot_costs(costs, learning_rate)"
      ]
    },
    {
      "cell_type": "markdown",
      "metadata": {
        "id": "FkQldFP9R9iJ"
      },
      "source": [
        "**Expected Output**:\n",
        "<table>\n",
        "    <tr>\n",
        "        <td> <b>Cost after iteration 0</b></td>\n",
        "        <td> 0.6930497356599888 </td>\n",
        "    </tr>\n",
        "    <tr>\n",
        "        <td> <b>Cost after iteration 100</b></td>\n",
        "        <td> 0.6464320953428849 </td>\n",
        "    </tr>\n",
        "    <tr>\n",
        "        <td> <b>...</b></td>\n",
        "        <td> ... </td>\n",
        "    </tr>\n",
        "    <tr>\n",
        "        <td> <b>Cost after iteration 2499</b></td>\n",
        "        <td> 0.04421498215868956 </td>\n",
        "    </tr>\n",
        "</table>"
      ]
    },
    {
      "cell_type": "markdown",
      "metadata": {
        "id": "7M84cQCAR9iJ"
      },
      "source": [
        "**Nice!** You successfully trained the model. Good thing you built a vectorized implementation! Otherwise it might have taken 10 times longer to train this.\n",
        "\n",
        "Now, you can use the trained parameters to classify images from the dataset. To see your predictions on the training and test sets, run the cell below."
      ]
    },
    {
      "cell_type": "code",
      "execution_count": null,
      "metadata": {
        "id": "dDs9vY5nR9iJ"
      },
      "outputs": [],
      "source": [
        "predictions_train = predict(train_x, train_y, parameters)"
      ]
    },
    {
      "cell_type": "markdown",
      "metadata": {
        "id": "h6n1wFkLR9iJ"
      },
      "source": [
        "**Expected Output**:\n",
        "<table>\n",
        "    <tr>\n",
        "        <td> <b>Accuracy</b></td>\n",
        "        <td> 0.9999999999999998 </td>\n",
        "    </tr>\n",
        "</table>"
      ]
    },
    {
      "cell_type": "code",
      "execution_count": null,
      "metadata": {
        "id": "fJaPPeeDR9iJ"
      },
      "outputs": [],
      "source": [
        "predictions_test = predict(test_x, test_y, parameters)"
      ]
    },
    {
      "cell_type": "markdown",
      "metadata": {
        "id": "tWaElTkAR9iK"
      },
      "source": [
        "**Expected Output**:\n",
        "\n",
        "<table>\n",
        "    <tr>\n",
        "        <td> <b>Accuracy</b></td>\n",
        "        <td> 0.72 </td>\n",
        "    </tr>\n",
        "</table>"
      ]
    },
    {
      "cell_type": "markdown",
      "metadata": {
        "id": "vMLs2WMyR9iK"
      },
      "source": [
        "### Congratulations! It seems that your 2-layer neural network has better performance (72%) than the logistic regression implementation (70%, Homework1). Let's see if you can do even better with an $L$-layer model.\n",
        "\n",
        "**Note**: You may notice that running the model on fewer iterations (say 1500) gives better accuracy on the test set. This is called \"early stopping\" and you'll hear more about it in \"Improving Deep Neural Networks 1\". Early stopping is a way to prevent overfitting."
      ]
    },
    {
      "cell_type": "markdown",
      "metadata": {
        "id": "e-2bJlwGR9iK"
      },
      "source": [
        "<a name='5'></a>\n",
        "## 5 - L-layer Neural Network\n",
        "\n",
        "<a name='ex-2'></a>\n",
        "### Exercise 2 - L_layer_model\n",
        "\n",
        "Use the helper functions you implemented previously to build an $L$-layer neural network with the following structure: *[LINEAR -> RELU]$\\times$(L-1) -> LINEAR -> SIGMOID*. The functions and their inputs are (again, no need to implement these, YEAH!):\n",
        "```python\n",
        "def initialize_parameters_deep(layers_dims):\n",
        "    ...\n",
        "    return parameters\n",
        "def L_model_forward(X, parameters):\n",
        "    ...\n",
        "    return AL, caches\n",
        "def compute_cost(AL, Y):\n",
        "    ...\n",
        "    return cost\n",
        "def L_model_backward(AL, Y, caches):\n",
        "    ...\n",
        "    return grads\n",
        "def update_parameters(parameters, grads, learning_rate):\n",
        "    ...\n",
        "    return parameters\n",
        "```"
      ]
    },
    {
      "cell_type": "code",
      "execution_count": null,
      "metadata": {
        "id": "kB8IyyzkR9iK"
      },
      "outputs": [],
      "source": [
        "### CONSTANTS ###\n",
        "layers_dims = [12288, 20, 7, 5, 1] #  4-layer model"
      ]
    },
    {
      "cell_type": "code",
      "execution_count": null,
      "metadata": {
        "deletable": false,
        "nbgrader": {
          "cell_type": "code",
          "checksum": "bd68f4ac31e8b22bbf46fab0a7e0e28b",
          "grade": false,
          "grade_id": "cell-dd8ea98cb7dac175",
          "locked": false,
          "schema_version": 3,
          "solution": true,
          "task": false
        },
        "id": "rhhQlgwxR9iK"
      },
      "outputs": [],
      "source": [
        "# GRADED FUNCTION: L_layer_model\n",
        "\n",
        "def L_layer_model(X, Y, layers_dims, learning_rate = 0.0075, num_iterations = 3000, print_cost=False):\n",
        "    \"\"\"\n",
        "    Implements a L-layer neural network: [LINEAR->RELU]*(L-1)->LINEAR->SIGMOID.\n",
        "\n",
        "    Arguments:\n",
        "    X -- data, numpy array of shape (num_px * num_px * 3, number of examples)\n",
        "    Y -- true \"label\" vector (containing 0 if cat, 1 if non-cat), of shape (1, number of examples)\n",
        "    layers_dims -- list containing the input size and each layer size, of length (number of layers + 1).\n",
        "    learning_rate -- learning rate of the gradient descent update rule\n",
        "    num_iterations -- number of iterations of the optimization loop\n",
        "    print_cost -- if True, it prints the cost every 100 steps\n",
        "\n",
        "    Returns:\n",
        "    parameters -- parameters learnt by the model. They can then be used to predict.\n",
        "    \"\"\"\n",
        "\n",
        "    np.random.seed(1)\n",
        "    costs = []                         # keep track of cost\n",
        "\n",
        "    # Parameters initialization.\n",
        "    #(≈ 1 line of code)\n",
        "    # parameters = ...\n",
        "    # YOUR CODE STARTS HERE\n",
        "\n",
        "\n",
        "    # YOUR CODE ENDS HERE\n",
        "\n",
        "    # Loop (gradient descent)\n",
        "    for i in range(0, num_iterations):\n",
        "\n",
        "        # Forward propagation: [LINEAR -> RELU]*(L-1) -> LINEAR -> SIGMOID.\n",
        "        #(≈ 1 line of code)\n",
        "        # AL, caches = ...\n",
        "        # YOUR CODE STARTS HERE\n",
        "\n",
        "\n",
        "        # YOUR CODE ENDS HERE\n",
        "\n",
        "        # Compute cost.\n",
        "        #(≈ 1 line of code)\n",
        "        # cost = ...\n",
        "        # YOUR CODE STARTS HERE\n",
        "\n",
        "\n",
        "        # YOUR CODE ENDS HERE\n",
        "\n",
        "        # Backward propagation.\n",
        "        #(≈ 1 line of code)\n",
        "        # grads = ...\n",
        "        # YOUR CODE STARTS HERE\n",
        "\n",
        "\n",
        "        # YOUR CODE ENDS HERE\n",
        "\n",
        "        # Update parameters.\n",
        "        #(≈ 1 line of code)\n",
        "        # parameters = ...\n",
        "        # YOUR CODE STARTS HERE\n",
        "\n",
        "\n",
        "        # YOUR CODE ENDS HERE\n",
        "\n",
        "        # Print the cost every 100 iterations\n",
        "        if print_cost and i % 100 == 0 or i == num_iterations - 1:\n",
        "            print(\"Cost after iteration {}: {}\".format(i, np.squeeze(cost)))\n",
        "        if i % 100 == 0 or i == num_iterations:\n",
        "            costs.append(cost)\n",
        "\n",
        "    return parameters, costs"
      ]
    },
    {
      "cell_type": "code",
      "execution_count": null,
      "metadata": {
        "deletable": false,
        "editable": false,
        "nbgrader": {
          "cell_type": "code",
          "checksum": "1f74e4d164e9274bfa921ff2ce310c93",
          "grade": true,
          "grade_id": "cell-ec1d0c26f291cd5f",
          "locked": true,
          "points": 10,
          "schema_version": 3,
          "solution": false,
          "task": false
        },
        "id": "FqrE_GjSR9iK"
      },
      "outputs": [],
      "source": [
        "parameters, costs = L_layer_model(train_x, train_y, layers_dims, num_iterations = 1, print_cost = False)\n",
        "\n",
        "print(\"Cost after first iteration: \" + str(costs[0]))\n",
        "\n",
        "L_layer_model_test(L_layer_model)"
      ]
    },
    {
      "cell_type": "markdown",
      "metadata": {
        "id": "qpJYuUdDR9iL"
      },
      "source": [
        "<a name='5-1'></a>\n",
        "### 5.1 - Train the model\n",
        "\n",
        "If your code passed the previous cell, run the cell below to train your model as a 4-layer neural network.\n",
        "\n",
        "- The cost should decrease on every iteration.\n",
        "\n",
        "- It may take up to 5 minutes to run 2500 iterations."
      ]
    },
    {
      "cell_type": "code",
      "execution_count": null,
      "metadata": {
        "id": "sVxK6Ck2R9iL"
      },
      "outputs": [],
      "source": [
        "parameters, costs = L_layer_model(train_x, train_y, layers_dims, num_iterations = 2500, print_cost = True)"
      ]
    },
    {
      "cell_type": "markdown",
      "metadata": {
        "id": "gQ1PvbKDR9iL"
      },
      "source": [
        "**Expected Output**:\n",
        "<table>\n",
        "    <tr>\n",
        "        <td> <b>Cost after iteration 0</b></td>\n",
        "        <td> 0.771749 </td>\n",
        "    </tr>\n",
        "    <tr>\n",
        "        <td> <b>Cost after iteration 100</b></td>\n",
        "        <td> 0.672053 </td>\n",
        "    </tr>\n",
        "    <tr>\n",
        "        <td> <b>...</b></td>\n",
        "        <td> ... </td>\n",
        "    </tr>\n",
        "    <tr>\n",
        "        <td> <b>Cost after iteration 2499</b></td>\n",
        "        <td> 0.088439 </td>\n",
        "    </tr>\n",
        "</table>"
      ]
    },
    {
      "cell_type": "code",
      "execution_count": null,
      "metadata": {
        "id": "MsQ5RLlpR9iL"
      },
      "outputs": [],
      "source": [
        "pred_train = predict(train_x, train_y, parameters)"
      ]
    },
    {
      "cell_type": "markdown",
      "metadata": {
        "id": "U5eDBhuCR9iL"
      },
      "source": [
        "**Expected Output**:\n",
        "\n",
        "<table>\n",
        "    <tr>\n",
        "    <td>\n",
        "        <b>Train Accuracy</b>\n",
        "    </td>\n",
        "    <td>\n",
        "    0.985645933014\n",
        "    </td>\n",
        "    </tr>\n",
        "</table>"
      ]
    },
    {
      "cell_type": "code",
      "execution_count": null,
      "metadata": {
        "id": "5KJwoLngR9iL"
      },
      "outputs": [],
      "source": [
        "pred_test = predict(test_x, test_y, parameters)"
      ]
    },
    {
      "cell_type": "markdown",
      "metadata": {
        "id": "Ug_ho0vER9iL"
      },
      "source": [
        "**Expected Output**:\n",
        "\n",
        "<table>\n",
        "    <tr>\n",
        "        <td> <b>Test Accuracy</b></td>\n",
        "        <td> 0.8 </td>\n",
        "    </tr>\n",
        "</table>"
      ]
    },
    {
      "cell_type": "markdown",
      "metadata": {
        "id": "6gZO7--BR9iM"
      },
      "source": [
        "### Congrats! It seems that your 4-layer neural network has better performance (80%) than your 2-layer neural network (72%) on the same test set.\n",
        "\n",
        "This is pretty good performance for this task. Nice job!\n",
        "\n",
        "In the next chapter on \"Improving deep neural networks,\" you'll be able to obtain even higher accuracy by systematically searching for better hyperparameters: learning_rate, layers_dims, or num_iterations, for example.  "
      ]
    },
    {
      "cell_type": "markdown",
      "metadata": {
        "id": "wuZ5XnKpR9iM"
      },
      "source": [
        "<a name='6'></a>\n",
        "##  6 - Results Analysis\n",
        "\n",
        "First, take a look at some images the L-layer model labeled incorrectly. This will show a few mislabeled images."
      ]
    },
    {
      "cell_type": "code",
      "execution_count": null,
      "metadata": {
        "id": "PM4ShFG9R9iM"
      },
      "outputs": [],
      "source": [
        "print_mislabeled_images(classes, test_x, test_y, pred_test)"
      ]
    },
    {
      "cell_type": "markdown",
      "metadata": {
        "id": "rFBOZjb5R9iM"
      },
      "source": [
        "**A few types of images the model tends to do poorly on include:**\n",
        "- Cat body in an unusual position\n",
        "- Cat appears against a background of a similar color\n",
        "- Unusual cat color and species\n",
        "- Camera Angle\n",
        "- Brightness of the picture\n",
        "- Scale variation (cat is very large or small in image)"
      ]
    },
    {
      "cell_type": "markdown",
      "metadata": {
        "id": "UUwIrE1ZR9iM"
      },
      "source": [
        "### Congratulations on finishing this homework!\n",
        "\n",
        "You just built and trained a deep L-layer neural network, and applied it in order to distinguish cats from non-cats, a very serious and important task in deep learning. :)\n",
        "\n",
        "Amazing work! If you'd like to test out how closely you resemble a cat yourself, there's an optional ungraded exercise below, where you can test your own image.\n",
        "\n",
        "Great work, now please continue on the second part of this homework."
      ]
    }
  ],
  "metadata": {
    "coursera": {
      "course_slug": "neural-networks-deep-learning",
      "graded_item_id": "TSPse",
      "launcher_item_id": "24mxX"
    },
    "kernelspec": {
      "display_name": "Python 3",
      "language": "python",
      "name": "python3"
    },
    "language_info": {
      "codemirror_mode": {
        "name": "ipython",
        "version": 3
      },
      "file_extension": ".py",
      "mimetype": "text/x-python",
      "name": "python",
      "nbconvert_exporter": "python",
      "pygments_lexer": "ipython3",
      "version": "3.8.8"
    },
    "colab": {
      "provenance": [],
      "include_colab_link": true
    }
  },
  "nbformat": 4,
  "nbformat_minor": 0
}