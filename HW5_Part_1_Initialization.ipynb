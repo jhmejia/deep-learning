{
  "cells": [
    {
      "cell_type": "markdown",
      "metadata": {
        "id": "view-in-github",
        "colab_type": "text"
      },
      "source": [
        "<a href=\"https://colab.research.google.com/github/jhmejia/deep-learning/blob/main/HW5_Part_1_Initialization.ipynb\" target=\"_parent\"><img src=\"https://colab.research.google.com/assets/colab-badge.svg\" alt=\"Open In Colab\"/></a>"
      ]
    },
    {
      "cell_type": "markdown",
      "metadata": {
        "id": "BjRxsPXlgMHt"
      },
      "source": [
        "# Initialization\n",
        "\n",
        "Welcome to the part 1 of HW5 on Improving Deep Neural Networks!\n",
        "\n",
        "Training your neural network requires specifying an initial value of the weights. A well-chosen initialization method helps the learning process.\n",
        "\n",
        "How do you choose the initialization for a new neural network? In this notebook, you'll try out a few different initializations, including random, zeros, and He initialization, and see how each leads to different results.\n",
        "\n",
        "A well-chosen initialization can:\n",
        "- Speed up the convergence of gradient descent\n",
        "- Increase the odds of gradient descent converging to a lower training (and generalization) error\n",
        "\n",
        "Let's get started!"
      ]
    },
    {
      "cell_type": "markdown",
      "source": [
        "First we will need to download some external resources from GitHub. Run the cell below."
      ],
      "metadata": {
        "id": "RdJfxp0NiP1j"
      }
    },
    {
      "cell_type": "code",
      "source": [
        "!git clone https://github.com/tcuseniordesign/deep-learning-hw5-1.git"
      ],
      "metadata": {
        "colab": {
          "base_uri": "https://localhost:8080/"
        },
        "id": "CeMwYe3giRZD",
        "outputId": "35ebc0df-1492-49bf-e476-a688996c81ff"
      },
      "execution_count": null,
      "outputs": [
        {
          "output_type": "stream",
          "name": "stdout",
          "text": [
            "Cloning into 'deep-learning-hw5-1'...\n",
            "remote: Enumerating objects: 5, done.\u001b[K\n",
            "remote: Counting objects: 100% (5/5), done.\u001b[K\n",
            "remote: Compressing objects: 100% (5/5), done.\u001b[K\n",
            "remote: Total 5 (delta 0), reused 5 (delta 0), pack-reused 0\u001b[K\n",
            "Unpacking objects: 100% (5/5), done.\n"
          ]
        }
      ]
    },
    {
      "cell_type": "markdown",
      "source": [
        "Then we need to move the resources to the current directory. Run the cell below."
      ],
      "metadata": {
        "id": "oZZsvCchiZzD"
      }
    },
    {
      "cell_type": "code",
      "source": [
        "import shutil\n",
        "import os\n",
        "\n",
        "source_dir = '/content/deep-learning-hw5-1'\n",
        "target_dir = '/content'\n",
        "\n",
        "file_names = os.listdir(source_dir)\n",
        "\n",
        "for file_name in file_names:\n",
        "    shutil.move(os.path.join(source_dir, file_name), target_dir)\n",
        "\n",
        "os.rmdir('/content/deep-learning-hw5-1')"
      ],
      "metadata": {
        "id": "EMaoCiZuia_V"
      },
      "execution_count": null,
      "outputs": []
    },
    {
      "cell_type": "markdown",
      "metadata": {
        "id": "dvDR398VgMHv"
      },
      "source": [
        "## Table of Contents\n",
        "- [1 - Packages](#1)\n",
        "- [2 - Loading the Dataset](#2)\n",
        "- [3 - Neural Network Model](#3)\n",
        "- [4 - Zero Initialization](#4)\n",
        "    - [Exercise 1 - initialize_parameters_zeros](#ex-1)\n",
        "- [5 - Random Initialization](#5)\n",
        "    - [Exercise 2 - initialize_parameters_random](#ex-2)\n",
        "- [6 - He Initialization](#6)\n",
        "    - [Exercise 3 - initialize_parameters_he](#ex-3)\n",
        "- [7 - Conclusions](#7)"
      ]
    },
    {
      "cell_type": "markdown",
      "metadata": {
        "id": "GiEUsCefgMHv"
      },
      "source": [
        "<a name='1'></a>\n",
        "## 1 - Packages"
      ]
    },
    {
      "cell_type": "code",
      "execution_count": null,
      "metadata": {
        "id": "CYuN_DnVgMHw"
      },
      "outputs": [],
      "source": [
        "import numpy as np\n",
        "import matplotlib.pyplot as plt\n",
        "import sklearn\n",
        "import sklearn.datasets\n",
        "from public_tests import *\n",
        "from init_utils import sigmoid, relu, compute_loss, forward_propagation, backward_propagation\n",
        "from init_utils import update_parameters, predict, load_dataset, plot_decision_boundary, predict_dec\n",
        "\n",
        "%matplotlib inline\n",
        "plt.rcParams['figure.figsize'] = (7.0, 4.0) # set default size of plots\n",
        "plt.rcParams['image.interpolation'] = 'nearest'\n",
        "plt.rcParams['image.cmap'] = 'gray'\n",
        "\n",
        "%load_ext autoreload\n",
        "%autoreload 2\n",
        "\n",
        "# load image dataset: blue/red dots in circles\n",
        "# train_X, train_Y, test_X, test_Y = load_dataset()"
      ]
    },
    {
      "cell_type": "markdown",
      "metadata": {
        "id": "9nThANjHgMHw"
      },
      "source": [
        "<a name='2'></a>\n",
        "## 2 - Loading the Dataset"
      ]
    },
    {
      "cell_type": "code",
      "execution_count": null,
      "metadata": {
        "id": "73WVuBgWgMHx",
        "colab": {
          "base_uri": "https://localhost:8080/",
          "height": 265
        },
        "outputId": "ab55e95d-cbca-4cb1-a7d3-bcc94355d64b"
      },
      "outputs": [
        {
          "output_type": "display_data",
          "data": {
            "text/plain": [
              "<Figure size 504x288 with 1 Axes>"
            ],
            "image/png": "[encoded data removed]"
          },
          "metadata": {
            "needs_background": "light"
          }
        }
      ],
      "source": [
        "train_X, train_Y, test_X, test_Y = load_dataset()"
      ]
    },
    {
      "cell_type": "markdown",
      "metadata": {
        "id": "gK5wRPiagMHx"
      },
      "source": [
        "For this classifier, you want to separate the blue dots from the red dots."
      ]
    },
    {
      "cell_type": "markdown",
      "metadata": {
        "id": "DUWCZsk1gMHx"
      },
      "source": [
        "<a name='3'></a>\n",
        "## 3 - Neural Network Model"
      ]
    },
    {
      "cell_type": "markdown",
      "metadata": {
        "id": "imQS81gigMHx"
      },
      "source": [
        "You'll use a 3-layer neural network (already implemented for you). These are the initialization methods you'll experiment with:\n",
        "- *Zeros initialization* --  setting `initialization = \"zeros\"` in the input argument.\n",
        "- *Random initialization* -- setting `initialization = \"random\"` in the input argument. This initializes the weights to large random values.  \n",
        "- *He initialization* -- setting `initialization = \"he\"` in the input argument. This initializes the weights to random values scaled according to a paper by He et al., 2015.\n",
        "\n",
        "**Instructions**: Instructions: Read over the code below, and run it. In the next part, you'll implement the three initialization methods that this `model()` calls."
      ]
    },
    {
      "cell_type": "code",
      "execution_count": null,
      "metadata": {
        "id": "nAd1YzkBgMHx"
      },
      "outputs": [],
      "source": [
        "def model(X, Y, learning_rate = 0.01, num_iterations = 15000, print_cost = True, initialization = \"he\"):\n",
        "    \"\"\"\n",
        "    Implements a three-layer neural network: LINEAR->RELU->LINEAR->RELU->LINEAR->SIGMOID.\n",
        "\n",
        "    Arguments:\n",
        "    X -- input data, of shape (2, number of examples)\n",
        "    Y -- true \"label\" vector (containing 0 for red dots; 1 for blue dots), of shape (1, number of examples)\n",
        "    learning_rate -- learning rate for gradient descent\n",
        "    num_iterations -- number of iterations to run gradient descent\n",
        "    print_cost -- if True, print the cost every 1000 iterations\n",
        "    initialization -- flag to choose which initialization to use (\"zeros\",\"random\" or \"he\")\n",
        "\n",
        "    Returns:\n",
        "    parameters -- parameters learnt by the model\n",
        "    \"\"\"\n",
        "\n",
        "    grads = {}\n",
        "    costs = [] # to keep track of the loss\n",
        "    m = X.shape[1] # number of examples\n",
        "    layers_dims = [X.shape[0], 10, 5, 1]\n",
        "\n",
        "    # Initialize parameters dictionary.\n",
        "    if initialization == \"zeros\":\n",
        "        parameters = initialize_parameters_zeros(layers_dims)\n",
        "    elif initialization == \"random\":\n",
        "        parameters = initialize_parameters_random(layers_dims)\n",
        "    elif initialization == \"he\":\n",
        "        parameters = initialize_parameters_he(layers_dims)\n",
        "\n",
        "    # Loop (gradient descent)\n",
        "\n",
        "    for i in range(num_iterations):\n",
        "\n",
        "        # Forward propagation: LINEAR -> RELU -> LINEAR -> RELU -> LINEAR -> SIGMOID.\n",
        "        a3, cache = forward_propagation(X, parameters)\n",
        "\n",
        "        # Loss\n",
        "        cost = compute_loss(a3, Y)\n",
        "\n",
        "        # Backward propagation.\n",
        "        grads = backward_propagation(X, Y, cache)\n",
        "\n",
        "        # Update parameters.\n",
        "        parameters = update_parameters(parameters, grads, learning_rate)\n",
        "\n",
        "        # Print the loss every 1000 iterations\n",
        "        if print_cost and i % 1000 == 0:\n",
        "            print(\"Cost after iteration {}: {}\".format(i, cost))\n",
        "            costs.append(cost)\n",
        "\n",
        "    # plot the loss\n",
        "    plt.plot(costs)\n",
        "    plt.ylabel('cost')\n",
        "    plt.xlabel('iterations (per hundreds)')\n",
        "    plt.title(\"Learning rate =\" + str(learning_rate))\n",
        "    plt.show()\n",
        "\n",
        "    return parameters"
      ]
    },
    {
      "cell_type": "markdown",
      "metadata": {
        "id": "x4ytcuMjgMHy"
      },
      "source": [
        "<a name='4'></a>\n",
        "## 4 - Zero Initialization\n",
        "\n",
        "There are two types of parameters to initialize in a neural network:\n",
        "- the weight matrices $(W^{[1]}, W^{[2]}, W^{[3]}, ..., W^{[L-1]}, W^{[L]})$\n",
        "- the bias vectors $(b^{[1]}, b^{[2]}, b^{[3]}, ..., b^{[L-1]}, b^{[L]})$\n",
        "\n",
        "<a name='ex-1'></a>\n",
        "### Exercise 1 - initialize_parameters_zeros\n",
        "\n",
        "Implement the following function to initialize all parameters to zeros. You'll see later that this does not work well since it fails to \"break symmetry,\" but try it anyway and see what happens. Use `np.zeros((..,..))` with the correct shapes."
      ]
    },
    {
      "cell_type": "code",
      "execution_count": null,
      "metadata": {
        "deletable": false,
        "nbgrader": {
          "cell_type": "code",
          "checksum": "27eb20f17301310c34489a2e99dccb72",
          "grade": false,
          "grade_id": "cell-0ebbf9140df0c623",
          "locked": false,
          "schema_version": 3,
          "solution": true,
          "task": false
        },
        "id": "JW4HaPCdgMHy"
      },
      "outputs": [],
      "source": [
        "# GRADED FUNCTION: initialize_parameters_zeros\n",
        "\n",
        "def initialize_parameters_zeros(layers_dims):\n",
        "    \"\"\"\n",
        "    Arguments:\n",
        "    layer_dims -- python array (list) containing the size of each layer.\n",
        "\n",
        "    Returns:\n",
        "    parameters -- python dictionary containing your parameters \"W1\", \"b1\", ..., \"WL\", \"bL\":\n",
        "                    W1 -- weight matrix of shape (layers_dims[1], layers_dims[0])\n",
        "                    b1 -- bias vector of shape (layers_dims[1], 1)\n",
        "                    ...\n",
        "                    WL -- weight matrix of shape (layers_dims[L], layers_dims[L-1])\n",
        "                    bL -- bias vector of shape (layers_dims[L], 1)\n",
        "    \"\"\"\n",
        "\n",
        "    parameters = {}\n",
        "    L = len(layers_dims)            # number of layers in the network\n",
        "\n",
        "    for l in range(1, L):\n",
        "        #(≈ 2 lines of code)\n",
        "        # parameters['W' + str(l)] =\n",
        "        # parameters['b' + str(l)] =\n",
        "        # YOUR CODE STARTS HERE\n",
        "\n",
        "\n",
        "        # YOUR CODE ENDS HERE\n",
        "    return parameters"
      ]
    },
    {
      "cell_type": "code",
      "execution_count": null,
      "metadata": {
        "deletable": false,
        "editable": false,
        "nbgrader": {
          "cell_type": "code",
          "checksum": "3f658c06a0a076ada919152a16148743",
          "grade": true,
          "grade_id": "cell-cca4e25452117a41",
          "locked": true,
          "points": 10,
          "schema_version": 3,
          "solution": false,
          "task": false
        },
        "id": "9gnKqcLtgMH3"
      },
      "outputs": [],
      "source": [
        "parameters = initialize_parameters_zeros([3, 2, 1])\n",
        "print(\"W1 = \" + str(parameters[\"W1\"]))\n",
        "print(\"b1 = \" + str(parameters[\"b1\"]))\n",
        "print(\"W2 = \" + str(parameters[\"W2\"]))\n",
        "print(\"b2 = \" + str(parameters[\"b2\"]))\n",
        "initialize_parameters_zeros_test(initialize_parameters_zeros)\n"
      ]
    },
    {
      "cell_type": "markdown",
      "metadata": {
        "id": "so89ePU3gMH3"
      },
      "source": [
        "Run the following code to train your model on 15,000 iterations using zeros initialization."
      ]
    },
    {
      "cell_type": "code",
      "execution_count": null,
      "metadata": {
        "id": "LAATKqNngMH3"
      },
      "outputs": [],
      "source": [
        "parameters = model(train_X, train_Y, initialization = \"zeros\")\n",
        "print (\"On the train set:\")\n",
        "predictions_train = predict(train_X, train_Y, parameters)\n",
        "print (\"On the test set:\")\n",
        "predictions_test = predict(test_X, test_Y, parameters)"
      ]
    },
    {
      "cell_type": "markdown",
      "metadata": {
        "id": "Tg_-FLcogMH3"
      },
      "source": [
        "The performance is terrible, the cost doesn't decrease, and the algorithm performs no better than random guessing. Why? Take a look at the details of the predictions and the decision boundary:"
      ]
    },
    {
      "cell_type": "code",
      "execution_count": null,
      "metadata": {
        "id": "JZHA5fG1gMH3"
      },
      "outputs": [],
      "source": [
        "print (\"predictions_train = \" + str(predictions_train))\n",
        "print (\"predictions_test = \" + str(predictions_test))"
      ]
    },
    {
      "cell_type": "code",
      "execution_count": null,
      "metadata": {
        "id": "ByMILpJigMH3"
      },
      "outputs": [],
      "source": [
        "plt.title(\"Model with Zeros initialization\")\n",
        "axes = plt.gca()\n",
        "axes.set_xlim([-1.5,1.5])\n",
        "axes.set_ylim([-1.5,1.5])\n",
        "plot_decision_boundary(lambda x: predict_dec(parameters, x.T), train_X, train_Y)"
      ]
    },
    {
      "cell_type": "markdown",
      "metadata": {
        "id": "DY-tM7augMH4"
      },
      "source": [
        "__Note__: For sake of simplicity calculations below are done using only one example at a time.\n",
        "\n",
        "Since the weights and biases are zero, multiplying by the weights creates the zero vector which gives 0 when the activation function is ReLU. As `z = 0`\n",
        "\n",
        "$$a = ReLU(z) = max(0, z) = 0$$\n",
        "\n",
        "At the classification layer, where the activation function is sigmoid you then get (for either input):\n",
        "\n",
        "$$\\sigma(z) = \\frac{1}{ 1 + e^{-(z)}} = \\frac{1}{2} = y_{pred}$$\n",
        "\n",
        "As for every example you are getting a 0.5 chance of it being true our cost function becomes helpless in adjusting the weights.\n",
        "\n",
        "Your loss function:\n",
        "$$ \\mathcal{L}(a, y) =  - y  \\ln(y_{pred}) - (1-y)  \\ln(1-y_{pred})$$\n",
        "\n",
        "For `y=1`, `y_pred=0.5` it becomes:\n",
        "\n",
        "$$ \\mathcal{L}(0, 1) =  - (1)  \\ln(\\frac{1}{2}) = 0.6931471805599453$$\n",
        "\n",
        "For `y=0`, `y_pred=0.5` it becomes:\n",
        "\n",
        "$$ \\mathcal{L}(0, 0) =  - (1)  \\ln(\\frac{1}{2}) = 0.6931471805599453$$\n",
        "\n",
        "As you can see with the prediction being 0.5 whether the actual (`y`) value is 1 or 0 you get the same loss value for both, so none of the weights get adjusted and you are stuck with the same old value of the weights.\n",
        "\n",
        "This is why you can see that the model is predicting 0 for every example! No wonder it's doing so badly.\n",
        "\n",
        "In general, initializing all the weights to zero results in the network failing to break symmetry. This means that every neuron in each layer will learn the same thing, so you might as well be training a neural network with $n^{[l]}=1$ for every layer. This way, the network is no more powerful than a linear classifier like logistic regression."
      ]
    },
    {
      "cell_type": "markdown",
      "metadata": {
        "id": "hQK_N_9bgMH4"
      },
      "source": [
        "<font color='blue'>\n",
        "    \n",
        "**What you should remember**:\n",
        "- The weights $W^{[l]}$ should be initialized randomly to break symmetry.\n",
        "- However, it's okay to initialize the biases $b^{[l]}$ to zeros. Symmetry is still broken so long as $W^{[l]}$ is initialized randomly.\n"
      ]
    },
    {
      "cell_type": "markdown",
      "metadata": {
        "id": "dVCguu5XgMH4"
      },
      "source": [
        "<a name='5'></a>\n",
        "## 5 - Random Initialization\n",
        "\n",
        "To break symmetry, initialize the weights randomly. Following random initialization, each neuron can then proceed to learn a different function of its inputs. In this exercise, you'll see what happens when the weights are initialized randomly, but to very large values.\n",
        "\n",
        "<a name='ex-2'></a>\n",
        "### Exercise 2 - initialize_parameters_random\n",
        "\n",
        "Implement the following function to initialize your weights to large random values (scaled by \\*10) and your biases to zeros. Use `np.random.randn(..,..) * 10` for weights and `np.zeros((.., ..))` for biases. You're using a fixed `np.random.seed(..)` to make sure your \"random\" weights  match everyone else's, so don't be surprised if running your code several times always gives you the same \"random\" values for the parameters."
      ]
    },
    {
      "cell_type": "code",
      "execution_count": null,
      "metadata": {
        "deletable": false,
        "nbgrader": {
          "cell_type": "code",
          "checksum": "21b040c1991d62855342338b0213efaf",
          "grade": false,
          "grade_id": "cell-b111fbe746a03ac8",
          "locked": false,
          "schema_version": 3,
          "solution": true,
          "task": false
        },
        "id": "bB_oGRBNgMH4"
      },
      "outputs": [],
      "source": [
        "# GRADED FUNCTION: initialize_parameters_random\n",
        "\n",
        "def initialize_parameters_random(layers_dims):\n",
        "    \"\"\"\n",
        "    Arguments:\n",
        "    layer_dims -- python array (list) containing the size of each layer.\n",
        "\n",
        "    Returns:\n",
        "    parameters -- python dictionary containing your parameters \"W1\", \"b1\", ..., \"WL\", \"bL\":\n",
        "                    W1 -- weight matrix of shape (layers_dims[1], layers_dims[0])\n",
        "                    b1 -- bias vector of shape (layers_dims[1], 1)\n",
        "                    ...\n",
        "                    WL -- weight matrix of shape (layers_dims[L], layers_dims[L-1])\n",
        "                    bL -- bias vector of shape (layers_dims[L], 1)\n",
        "    \"\"\"\n",
        "\n",
        "    np.random.seed(3)               # This seed makes sure your \"random\" numbers will be the as ours\n",
        "    parameters = {}\n",
        "    L = len(layers_dims)            # integer representing the number of layers\n",
        "\n",
        "    for l in range(1, L):\n",
        "        #(≈ 2 lines of code)\n",
        "        # parameters['W' + str(l)] =\n",
        "        # parameters['b' + str(l)] =\n",
        "        # YOUR CODE STARTS HERE\n",
        "\n",
        "\n",
        "        # YOUR CODE ENDS HERE\n",
        "\n",
        "    return parameters"
      ]
    },
    {
      "cell_type": "code",
      "execution_count": null,
      "metadata": {
        "deletable": false,
        "editable": false,
        "nbgrader": {
          "cell_type": "code",
          "checksum": "d8c1b69e53ab520dc3ec267f9649452f",
          "grade": true,
          "grade_id": "cell-f5d0f829aa0eb6ff",
          "locked": true,
          "points": 10,
          "schema_version": 3,
          "solution": false,
          "task": false
        },
        "id": "ODNuKhDGgMH4"
      },
      "outputs": [],
      "source": [
        "parameters = initialize_parameters_random([3, 2, 1])\n",
        "print(\"W1 = \" + str(parameters[\"W1\"]))\n",
        "print(\"b1 = \" + str(parameters[\"b1\"]))\n",
        "print(\"W2 = \" + str(parameters[\"W2\"]))\n",
        "print(\"b2 = \" + str(parameters[\"b2\"]))\n",
        "initialize_parameters_random_test(initialize_parameters_random)"
      ]
    },
    {
      "cell_type": "markdown",
      "metadata": {
        "id": "ABvebgpugMH5"
      },
      "source": [
        "Run the following code to train your model on 15,000 iterations using random initialization."
      ]
    },
    {
      "cell_type": "code",
      "execution_count": null,
      "metadata": {
        "id": "M7JdkhTDgMH5"
      },
      "outputs": [],
      "source": [
        "parameters = model(train_X, train_Y, initialization = \"random\")\n",
        "print (\"On the train set:\")\n",
        "predictions_train = predict(train_X, train_Y, parameters)\n",
        "print (\"On the test set:\")\n",
        "predictions_test = predict(test_X, test_Y, parameters)"
      ]
    },
    {
      "cell_type": "markdown",
      "metadata": {
        "id": "5wbTRnb8gMH5"
      },
      "source": [
        "If you see \"inf\" as the cost after the iteration 0, this is because of numerical roundoff. A more numerically sophisticated implementation would fix this, but for the purposes of this notebook, it isn't really worth worrying about.\n",
        "\n",
        "In any case, you've now broken the symmetry, and this gives noticeably better accuracy than before. The model is no longer outputting all 0s. Progress!"
      ]
    },
    {
      "cell_type": "code",
      "execution_count": null,
      "metadata": {
        "id": "vwpesxJWgMH5"
      },
      "outputs": [],
      "source": [
        "print (predictions_train)\n",
        "print (predictions_test)"
      ]
    },
    {
      "cell_type": "code",
      "execution_count": null,
      "metadata": {
        "id": "V4RJWcHUgMH5"
      },
      "outputs": [],
      "source": [
        "plt.title(\"Model with large random initialization\")\n",
        "axes = plt.gca()\n",
        "axes.set_xlim([-1.5,1.5])\n",
        "axes.set_ylim([-1.5,1.5])\n",
        "plot_decision_boundary(lambda x: predict_dec(parameters, x.T), train_X, train_Y)"
      ]
    },
    {
      "cell_type": "markdown",
      "metadata": {
        "id": "6Qd-vNszgMH5"
      },
      "source": [
        "**Observations**:\n",
        "- The cost starts very high. This is because with large random-valued weights, the last activation (sigmoid) outputs results that are very close to 0 or 1 for some examples, and when it gets that example wrong it incurs a very high loss for that example. Indeed, when $\\log(a^{[3]}) = \\log(0)$, the loss goes to infinity.\n",
        "- Poor initialization can lead to vanishing/exploding gradients, which also slows down the optimization algorithm.\n",
        "- If you train this network longer you will see better results, but initializing with overly large random numbers slows down the optimization.\n",
        "\n",
        "<font color='blue'>\n",
        "    \n",
        "**In summary**:\n",
        "- Initializing weights to very large random values doesn't work well.\n",
        "- Initializing with small random values should do better. The important question is, how small should be these random values be? Let's find out up next!\n",
        "\n",
        "<font color='black'>    \n",
        "    \n",
        "**Optional Read:**\n",
        "\n",
        "\n",
        "The main difference between Gaussian variable (`numpy.random.randn()`) and uniform random variable is the distribution of the generated random numbers:\n",
        "\n",
        "- numpy.random.rand() produces numbers in a [uniform distribution](https://raw.githubusercontent.com/jahnog/deeplearning-notes/master/Course2/images/rand.jpg).\n",
        "- and numpy.random.randn() produces numbers in a [normal distribution](https://raw.githubusercontent.com/jahnog/deeplearning-notes/master/Course2/images/randn.jpg).\n",
        "\n",
        "When used for weight initialization, randn() helps most the weights to AVOID being close to the extremes, allocating most of them in the center of the range.\n",
        "\n",
        "An intuitive way to see it is, for example, if you take the [sigmoid() activation function](https://en.wikipedia.org/wiki/Sigmoid_function#/media/File:Logistic-curve.svg).\n",
        "\n",
        "You’ll remember that the slope near 0 or near 1 is extremely small, so the weights near those extremes will converge much more slowly to the solution, and having most of them near the center will speed the convergence."
      ]
    },
    {
      "cell_type": "markdown",
      "metadata": {
        "id": "ykNk0ZbigMH6"
      },
      "source": [
        "<a name='6'></a>\n",
        "## 6 - He Initialization\n",
        "\n",
        "Finally, try \"He Initialization\"; this is named for the first author of He et al., 2015. (If you have heard of \"Xavier initialization\", this is similar except Xavier initialization uses a scaling factor for the weights $W^{[l]}$ of `sqrt(1./layers_dims[l-1])` where He initialization would use `sqrt(2./layers_dims[l-1])`.)\n",
        "\n",
        "<a name='ex-3'></a>\n",
        "### Exercise 3 - initialize_parameters_he\n",
        "\n",
        "Implement the following function to initialize your parameters with He initialization. This function is similar to the previous `initialize_parameters_random(...)`. The only difference is that instead of multiplying `np.random.randn(..,..)` by 10, you will multiply it by $\\sqrt{\\frac{2}{\\text{dimension of the previous layer}}}$, which is what He initialization recommends for layers with a ReLU activation."
      ]
    },
    {
      "cell_type": "code",
      "execution_count": null,
      "metadata": {
        "deletable": false,
        "nbgrader": {
          "cell_type": "code",
          "checksum": "dc6e68563172d4db3892e0f99b19e75f",
          "grade": false,
          "grade_id": "cell-028d29f9550d2487",
          "locked": false,
          "schema_version": 3,
          "solution": true,
          "task": false
        },
        "id": "NyRRMer_gMH6"
      },
      "outputs": [],
      "source": [
        "# GRADED FUNCTION: initialize_parameters_he\n",
        "\n",
        "def initialize_parameters_he(layers_dims):\n",
        "    \"\"\"\n",
        "    Arguments:\n",
        "    layer_dims -- python array (list) containing the size of each layer.\n",
        "\n",
        "    Returns:\n",
        "    parameters -- python dictionary containing your parameters \"W1\", \"b1\", ..., \"WL\", \"bL\":\n",
        "                    W1 -- weight matrix of shape (layers_dims[1], layers_dims[0])\n",
        "                    b1 -- bias vector of shape (layers_dims[1], 1)\n",
        "                    ...\n",
        "                    WL -- weight matrix of shape (layers_dims[L], layers_dims[L-1])\n",
        "                    bL -- bias vector of shape (layers_dims[L], 1)\n",
        "    \"\"\"\n",
        "\n",
        "    np.random.seed(3)\n",
        "    parameters = {}\n",
        "    L = len(layers_dims) - 1 # integer representing the number of layers\n",
        "\n",
        "    for l in range(1, L + 1):\n",
        "        #(≈ 2 lines of code)\n",
        "        # parameters['W' + str(l)] =\n",
        "        # parameters['b' + str(l)] =\n",
        "        # YOUR CODE STARTS HERE\n",
        "\n",
        "\n",
        "        # YOUR CODE ENDS HERE\n",
        "\n",
        "    return parameters"
      ]
    },
    {
      "cell_type": "code",
      "execution_count": null,
      "metadata": {
        "deletable": false,
        "editable": false,
        "nbgrader": {
          "cell_type": "code",
          "checksum": "8582da0d892efbebd514149319354a18",
          "grade": true,
          "grade_id": "cell-bcf384daddbdb4db",
          "locked": true,
          "points": 10,
          "schema_version": 3,
          "solution": false,
          "task": false
        },
        "id": "ykXU5xymgMH6"
      },
      "outputs": [],
      "source": [
        "parameters = initialize_parameters_he([2, 4, 1])\n",
        "print(\"W1 = \" + str(parameters[\"W1\"]))\n",
        "print(\"b1 = \" + str(parameters[\"b1\"]))\n",
        "print(\"W2 = \" + str(parameters[\"W2\"]))\n",
        "print(\"b2 = \" + str(parameters[\"b2\"]))\n",
        "initialize_parameters_he_test(initialize_parameters_he)\n",
        "# parameters"
      ]
    },
    {
      "cell_type": "markdown",
      "metadata": {
        "id": "mVLBVvxPgMH6"
      },
      "source": [
        "Run the following code to train your model on 15,000 iterations using He initialization."
      ]
    },
    {
      "cell_type": "code",
      "execution_count": null,
      "metadata": {
        "id": "9SLGdtN-gMH6"
      },
      "outputs": [],
      "source": [
        "parameters = model(train_X, train_Y, initialization = \"he\")\n",
        "print (\"On the train set:\")\n",
        "predictions_train = predict(train_X, train_Y, parameters)\n",
        "print (\"On the test set:\")\n",
        "predictions_test = predict(test_X, test_Y, parameters)"
      ]
    },
    {
      "cell_type": "code",
      "execution_count": null,
      "metadata": {
        "id": "QLCOP8OrgMH6"
      },
      "outputs": [],
      "source": [
        "plt.title(\"Model with He initialization\")\n",
        "axes = plt.gca()\n",
        "axes.set_xlim([-1.5,1.5])\n",
        "axes.set_ylim([-1.5,1.5])\n",
        "plot_decision_boundary(lambda x: predict_dec(parameters, x.T), train_X, train_Y)"
      ]
    },
    {
      "cell_type": "markdown",
      "metadata": {
        "id": "QDO2AhQFgMH6"
      },
      "source": [
        "**Observations**:\n",
        "- The model with He initialization separates the blue and the red dots very well in a small number of iterations.\n"
      ]
    },
    {
      "cell_type": "markdown",
      "metadata": {
        "collapsed": true,
        "id": "KWhuIEm7gMH7"
      },
      "source": [
        "<a name='7'></a>\n",
        "## 7 - Conclusions"
      ]
    },
    {
      "cell_type": "markdown",
      "metadata": {
        "collapsed": true,
        "id": "PHp0PjAQgMH7"
      },
      "source": [
        "You've tried three different types of initializations. For the same number of iterations and same hyperparameters, the comparison is:\n",
        "\n",
        "<table>\n",
        "    <tr>\n",
        "        <td>\n",
        "            <b>Model</b>\n",
        "        </td>\n",
        "        <td>\n",
        "            <b>Train accuracy</b>\n",
        "        </td>\n",
        "        <td>\n",
        "            <b>Problem/Comment</b>\n",
        "        </td>\n",
        "    </tr>\n",
        "        <td>\n",
        "        3-layer NN with zeros initialization\n",
        "        </td>\n",
        "        <td>\n",
        "        50%\n",
        "        </td>\n",
        "        <td>\n",
        "        fails to break symmetry\n",
        "        </td>\n",
        "    <tr>\n",
        "        <td>\n",
        "        3-layer NN with large random initialization\n",
        "        </td>\n",
        "        <td>\n",
        "        83%\n",
        "        </td>\n",
        "        <td>\n",
        "        too large weights\n",
        "        </td>\n",
        "    </tr>\n",
        "    <tr>\n",
        "        <td>\n",
        "        3-layer NN with He initialization\n",
        "        </td>\n",
        "        <td>\n",
        "        99%\n",
        "        </td>\n",
        "        <td>\n",
        "        recommended method\n",
        "        </td>\n",
        "    </tr>\n",
        "</table>"
      ]
    },
    {
      "cell_type": "markdown",
      "metadata": {
        "id": "EhC9bBTvgMH7"
      },
      "source": [
        "**Congratulations**! You've completed this notebook on Initialization.\n",
        "\n",
        "Here's a quick recap of the main takeaways:\n",
        "\n",
        "<font color='blue'>\n",
        "    \n",
        "- Different initializations lead to very different results\n",
        "- Random initialization is used to break symmetry and make sure different hidden units can learn different things\n",
        "- Resist initializing to values that are too large!\n",
        "- He initialization works well for networks with ReLU activations"
      ]
    }
  ],
  "metadata": {
    "coursera": {
      "course_slug": "deep-neural-network",
      "graded_item_id": "XOESP",
      "launcher_item_id": "8IhFN"
    },
    "kernelspec": {
      "display_name": "Python 3",
      "language": "python",
      "name": "python3"
    },
    "language_info": {
      "codemirror_mode": {
        "name": "ipython",
        "version": 3
      },
      "file_extension": ".py",
      "mimetype": "text/x-python",
      "name": "python",
      "nbconvert_exporter": "python",
      "pygments_lexer": "ipython3",
      "version": "3.8.8"
    },
    "colab": {
      "provenance": [],
      "include_colab_link": true
    }
  },
  "nbformat": 4,
  "nbformat_minor": 0
}