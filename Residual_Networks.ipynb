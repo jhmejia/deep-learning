{
  "cells": [
    {
      "cell_type": "markdown",
      "metadata": {
        "id": "view-in-github",
        "colab_type": "text"
      },
      "source": [
        "<a href=\"https://colab.research.google.com/github/jhmejia/deep-learning/blob/main/Residual_Networks.ipynb\" target=\"_parent\"><img src=\"https://colab.research.google.com/assets/colab-badge.svg\" alt=\"Open In Colab\"/></a>"
      ]
    },
    {
      "cell_type": "markdown",
      "metadata": {
        "id": "1h0oBf1Eq1LZ"
      },
      "source": [
        "# Residual Networks\n",
        "\n",
        "You'll be building a very deep convolutional network, using Residual Networks (ResNets). In theory, very deep networks can represent very complex functions; but in practice, they are hard to train. Residual Networks, introduced by [He et al.](https://arxiv.org/pdf/1512.03385.pdf), allow you to train much deeper networks than were previously feasible.\n",
        "\n",
        "**By the end of this assignment, you'll be able to:**\n",
        "\n",
        "- Implement the basic building blocks of ResNets in a deep neural network using PyTorch\n",
        "- Put together these building blocks to implement and train a state-of-the-art neural network for image classification\n",
        "- Implement a skip connection in your network\n",
        "\n",
        "For this assignment, you'll use PyTorch.\n",
        "\n",
        "Before jumping into the problem, run the cell below to load the required packages."
      ]
    },
    {
      "cell_type": "markdown",
      "source": [
        "First we will need to download some external resources from GitHub. Run the cell below."
      ],
      "metadata": {
        "id": "eXqUNMrrr3Yi"
      }
    },
    {
      "cell_type": "code",
      "source": [
        "!git clone https://github.com/tcuseniordesign/deep-learning-hw7-1.git"
      ],
      "metadata": {
        "colab": {
          "base_uri": "https://localhost:8080/"
        },
        "id": "zhAc6prSr5ED",
        "outputId": "3616a8cc-fa12-417a-eae1-72c9bcc831d5"
      },
      "execution_count": null,
      "outputs": [
        {
          "output_type": "stream",
          "name": "stdout",
          "text": [
            "Cloning into 'deep-learning-hw7-1'...\n",
            "remote: Enumerating objects: 19, done.\u001b[K\n",
            "remote: Counting objects: 100% (19/19), done.\u001b[K\n",
            "remote: Compressing objects: 100% (18/18), done.\u001b[K\n",
            "remote: Total 19 (delta 0), reused 19 (delta 0), pack-reused 0\u001b[K\n",
            "Unpacking objects: 100% (19/19), done.\n"
          ]
        }
      ]
    },
    {
      "cell_type": "markdown",
      "source": [
        "Then we need to move the resources to the current directory. Run the cell below."
      ],
      "metadata": {
        "id": "mV_zvR3-r8CP"
      }
    },
    {
      "cell_type": "code",
      "source": [
        "import shutil\n",
        "import os\n",
        "\n",
        "source_dir = '/content/deep-learning-hw7-1'\n",
        "target_dir = '/content'\n",
        "\n",
        "file_names = os.listdir(source_dir)\n",
        "\n",
        "for file_name in file_names:\n",
        "    shutil.move(os.path.join(source_dir, file_name), target_dir)\n",
        "\n",
        "os.rmdir('/content/deep-learning-hw7-1')"
      ],
      "metadata": {
        "id": "rWhrHUUtr-ro"
      },
      "execution_count": null,
      "outputs": []
    },
    {
      "cell_type": "markdown",
      "metadata": {
        "id": "pBkuHu0eq1La"
      },
      "source": [
        "## Table of Content\n",
        "\n",
        "- [1 - Packages](#1)\n",
        "- [2 - The Problem of Very Deep Neural Networks](#2)\n",
        "- [3 - Building a Residual Network](#3)\n",
        "    - [3.1 - The Identity Block](#3-1)\n",
        "        - [Exercise 1 - identity_block](#ex-1)\n",
        "    - [3.2 - The Convolutional Block](#3-2)\n",
        "        - [Exercise 2 - convolutional_block](#ex-2)\n",
        "- [4 - Building Your First ResNet Model (50 layers)](#4)\n",
        "    - [Exercise 3 - ResNet50](#ex-3)\n",
        "- [5 - Bibliography](#5)"
      ]
    },
    {
      "cell_type": "markdown",
      "metadata": {
        "id": "-S_t7Vqaq1La"
      },
      "source": [
        "<a name='1'></a>\n",
        "## 1 - Packages"
      ]
    },
    {
      "cell_type": "code",
      "execution_count": null,
      "metadata": {
        "id": "Bd9wcXTrq1La"
      },
      "outputs": [],
      "source": [
        "import torch\n",
        "import torch.nn as nn\n",
        "import torch.optim as optim\n",
        "from resnets_utils import *\n",
        "\n",
        "from torch.utils.data import DataLoader, sampler, TensorDataset\n",
        "\n",
        "import torchvision.datasets as dset\n",
        "import matplotlib.pyplot as plt\n",
        "import numpy as np\n",
        "import h5py"
      ]
    },
    {
      "cell_type": "markdown",
      "metadata": {
        "id": "Zu4ikBZcq1Lb"
      },
      "source": [
        "<a name='2'></a>\n",
        "## 2 - The Problem of Very Deep Neural Networks\n",
        "\n",
        "In the last homework, you built your first convolutional neural networks: first manually with numpy, then using PyTorch.\n",
        "\n",
        "In recent years, neural networks have become much deeper, with state-of-the-art networks evolving from having just a few layers (e.g., AlexNet) to over a hundred layers.\n",
        "\n",
        "* The main benefit of a very deep network is that it can represent very complex functions. It can also learn features at many different levels of abstraction, from edges (at the shallower layers, closer to the input) to very complex features (at the deeper layers, closer to the output).\n",
        "\n",
        "* However, using a deeper network doesn't always help. A huge barrier to training them is vanishing gradients: very deep networks often have a gradient signal that goes to zero quickly, thus making gradient descent prohibitively slow.\n",
        "\n",
        "* More specifically, during gradient descent, as you backpropagate from the final layer back to the first layer, you are multiplying by the weight matrix on each step, and thus the gradient can decrease exponentially quickly to zero (or, in rare cases, grow exponentially quickly and \"explode,\" from gaining very large values).\n",
        "\n",
        "* During training, you might therefore see the magnitude (or norm) of the gradient for the shallower layers decrease to zero very rapidly as training proceeds, as shown below:"
      ]
    },
    {
      "cell_type": "markdown",
      "metadata": {
        "id": "iPR3jtDPq1Lc"
      },
      "source": [
        "<img src=\"https://raw.githubusercontent.com/tcuseniordesign/deep-learning-hw7-1/main/images/vanishing_grad.png\" style=\"width:450px;height:220px;\">\n",
        "<caption><center> <u> <font color='purple'> <b>Figure 1</b> </u><font color='purple'>  : <b>Vanishing gradient</b> <br> The speed of learning decreases very rapidly for the shallower layers as the network trains </center></caption>\n",
        "\n",
        "Don't worry! You are now going to solve this problem by building a Residual Network!"
      ]
    },
    {
      "cell_type": "markdown",
      "metadata": {
        "id": "wzJad5BPq1Lc"
      },
      "source": [
        "<a name='3'></a>\n",
        "## 3 - Building a Residual Network\n",
        "\n",
        "In ResNets, a \"shortcut\" or a \"skip connection\" allows the model to skip layers:  \n",
        "\n",
        "<img src=\"https://raw.githubusercontent.com/tcuseniordesign/deep-learning-hw7-1/main/images/skip_connection.png\" style=\"width:650px;height:200px;\">\n",
        "<caption><center> <u> <font color='purple'> <b>Figure 2</b> </u><font color='purple'>  : A ResNet block showing a skip-connection <br> </center></caption>\n",
        "\n",
        "The image on the left shows the \"main path\" through the network. The image on the right adds a shortcut to the main path. By stacking these ResNet blocks on top of each other, you can form a very deep network.\n",
        "\n",
        "The lecture mentioned that having ResNet blocks with the shortcut also makes it very easy for one of the blocks to learn an identity function. This means that you can stack on additional ResNet blocks with little risk of harming training set performance.  \n",
        "    \n",
        "On that note, there is also some evidence that the ease of learning an identity function accounts for ResNets' remarkable performance even more than skip connections help with vanishing gradients.\n",
        "\n",
        "Two main types of blocks are used in a ResNet, depending mainly on whether the input/output dimensions are the same or different. You are going to implement both of them: the \"identity block\" and the \"convolutional block.\""
      ]
    },
    {
      "cell_type": "markdown",
      "metadata": {
        "id": "C-B1Ce8fq1Lc"
      },
      "source": [
        "<a name='3-1'></a>\n",
        "### 3.1 - The Identity Block\n",
        "\n",
        "The identity block is the standard block used in ResNets, and corresponds to the case where the input activation (say $a^{[l]}$) has the same dimension as the output activation (say $a^{[l+2]}$). To flesh out the different steps of what happens in a ResNet's identity block, here is an alternative diagram showing the individual steps:\n",
        "\n",
        "<img src=\"https://raw.githubusercontent.com/tcuseniordesign/deep-learning-hw7-1/main/images/idblock2.png\" style=\"width:650px;height:150px;\">\n",
        "<caption><center> <u> <font color='purple'> <b>Figure 3</b> </u><font color='purple'>  : <b>Identity block.</b> Skip connection \"skips over\" 2 layers. </center></caption>\n",
        "\n",
        "The upper path is the \"shortcut path.\" The lower path is the \"main path.\" In this diagram, notice the CONV2D and ReLU steps in each layer. To speed up training, a BatchNorm step has been added. Don't worry about this being complicated to implement--you'll see that BatchNorm is just one line of code in PyTorch!\n",
        "\n",
        "In this exercise, you'll actually implement a slightly more powerful version of this identity block, in which the skip connection \"skips over\" 3 hidden layers rather than 2 layers. It looks like this:\n",
        "\n",
        "<img src=\"https://raw.githubusercontent.com/tcuseniordesign/deep-learning-hw7-1/main/images/idblock3.png\" style=\"width:650px;height:150px;\">\n",
        "    <caption><center> <u> <font color='purple'> <b>Figure 4</b> </u><font color='purple'>  : <b>Identity block.</b> Skip connection \"skips over\" 3 layers.</center></caption>"
      ]
    },
    {
      "cell_type": "markdown",
      "metadata": {
        "id": "dDX6PTyoq1Lc"
      },
      "source": [
        "These are the individual steps:\n",
        "\n",
        "First component of main path:\n",
        "- The first CONV2D has $F_1$ filters of shape (1,1) and a stride of (1,1). Its padding is \"valid\". Use 0 as the seed for the random initialization.\n",
        "- The first BatchNorm is normalizing the 'channels' axis.\n",
        "- Then apply the ReLU activation function. This has no hyperparameters.\n",
        "\n",
        "Second component of main path:\n",
        "- The second CONV2D has $F_2$ filters of shape (f,f) and a stride of (1,1). Its padding is \"same\". Use 0 as the seed for the random initialization.\n",
        "- The second BatchNorm is normalizing the 'channels' axis.\n",
        "- Then apply the ReLU activation function. This has no hyperparameters.\n",
        "\n",
        "Third component of main path:\n",
        "- The third CONV2D has $F_3$ filters of shape (1,1) and a stride of (1,1). Its padding is \"valid\". Use 0 as the seed for the random initialization.\n",
        "- The third BatchNorm is normalizing the 'channels' axis.\n",
        "- Note that there is **no** ReLU activation function in this component.\n",
        "\n",
        "Final step:\n",
        "- The `X_shortcut` and the output from the 3rd layer `X` are added together.\n",
        "- Then apply the ReLU activation function. This has no hyperparameters.\n",
        "\n",
        "<a name='ex-1'></a>\n",
        "### Exercise 1 - identity_block\n",
        "\n",
        "Implement the ResNet identity block. The first component of the main path has been implemented for you already! First, you should read these docs carefully to make sure you understand what's happening. Then, implement the rest.\n",
        "- To implement the Conv2D step: [Conv2d](https://pytorch.org/docs/stable/generated/torch.nn.Conv2d.html)\n",
        "- To implement BatchNorm: [BatchNorm2d](https://pytorch.org/docs/stable/generated/torch.nn.BatchNorm2d.html)\n",
        "- For the activation, use: [ReLU](https://pytorch.org/docs/stable/generated/torch.nn.ReLU.html)"
      ]
    },
    {
      "cell_type": "markdown",
      "metadata": {
        "id": "ofVJiNx6q1Ld"
      },
      "source": [
        " Here is where you're actually using the power of the Functional API to create a shortcut path:"
      ]
    },
    {
      "cell_type": "code",
      "source": [
        "#identity block doesn't change input sizes and the number of channels.\n",
        "class identity_block(nn.Module):\n",
        "    def __init__(self, f, filters, in_channels):\n",
        "        \"\"\"\n",
        "        Define components used in identity_block\n",
        "\n",
        "        Arguments:\n",
        "        f -- integer, specifying the shape of the middle CONV's window for the main path\n",
        "        filters -- python list of integers, defining the number of filters in the CONV layers of the main path\n",
        "        in_channels -- number of channels in the input image\n",
        "        \"\"\"\n",
        "        super(identity_block, self).__init__()\n",
        "        F1, F2, F3 = filters\n",
        "\n",
        "        #First component of the main path\n",
        "        self.conv2d_1 = nn.Conv2d(in_channels, F1, kernel_size=1) #doesn't change input size\n",
        "        self.bn_1 = nn.BatchNorm2d(F1)\n",
        "        self.relu_1 = nn.ReLU()\n",
        "\n",
        "        ### START CODE HERE\n",
        "        #Second component of the main path\n",
        "\n",
        "\n",
        "        #Third component of the main path\n",
        "\n",
        "        ### END CODE HERE\n",
        "\n",
        "        # Final ReLU layer\n",
        "        self.relu_3 = nn.ReLU()\n",
        "\n",
        "    def forward(self, x):\n",
        "        x_shortcut = x\n",
        "\n",
        "        # First component of main path\n",
        "        x = self.conv2d_1(x)\n",
        "        x = self.bn_1(x)\n",
        "        x = self.relu_1(x)\n",
        "\n",
        "        ### START CODE HERE\n",
        "        ## Second component of main path (3 lines)\n",
        "\n",
        "        ## Third component of main path (2 lines)\n",
        "\n",
        "        ### END CODE HERE\n",
        "\n",
        "        ## Final step: Add shortcut value to main path, and pass it through a RELU activation (≈2 lines)\n",
        "        x += x_shortcut\n",
        "        x = self.relu_3(x)\n",
        "\n",
        "        return x"
      ],
      "metadata": {
        "id": "PSWcUd4_vNOz"
      },
      "execution_count": null,
      "outputs": []
    },
    {
      "cell_type": "markdown",
      "metadata": {
        "id": "GJSWb-cHq1Lj"
      },
      "source": [
        "<a name='3-2'></a>\n",
        "### 3.2 - The Convolutional Block\n",
        "\n",
        "The ResNet \"convolutional block\" is the second block type. You can use this type of block when the input and output dimensions don't match up. The difference with the identity block is that there is a CONV2D layer in the shortcut path:\n",
        "\n",
        "<img src=\"https://raw.githubusercontent.com/tcuseniordesign/deep-learning-hw7-1/main/images/convblock.png\" style=\"width:650px;height:150px;\">\n",
        "<caption><center> <u> <font color='purple'> <b>Figure 4</b> </u><font color='purple'>  : <b>Convolutional block</b> </center></caption>\n",
        "\n",
        "* The CONV2D layer in the shortcut path is used to resize the input $x$ to a different dimension, so that the dimensions match up in the final addition needed to add the shortcut value back to the main path. (This plays a similar role as the matrix $W_s$ discussed in lecture.)\n",
        "* For example, to reduce the activation dimensions's height and width by a factor of 2, you can use a 1x1 convolution with a stride of 2.\n",
        "* The CONV2D layer on the shortcut path does not use any non-linear activation function. Its main role is to just apply a (learned) linear function that reduces the dimension of the input, so that the dimensions match up for the later addition step.\n",
        "\n",
        "The details of the convolutional block are as follows.\n",
        "\n",
        "First component of main path:\n",
        "- The first CONV2D has $F_1$ filters of shape (1,1) and a stride of (s,s). Its padding is \"valid\".\n",
        "- The first BatchNorm is normalizing the 'channels' axis.\n",
        "- Then apply the ReLU activation function. This has no hyperparameters.\n",
        "\n",
        "Second component of main path:\n",
        "- The second CONV2D has $F_2$ filters of shape (f,f) and a stride of (1,1). Its padding is \"same\".\n",
        "- The second BatchNorm is normalizing the 'channels' axis.\n",
        "- Then apply the ReLU activation function. This has no hyperparameters.\n",
        "\n",
        "Third component of main path:\n",
        "- The third CONV2D has $F_3$ filters of shape (1,1) and a stride of (1,1). Its padding is \"valid\".\n",
        "- The third BatchNorm is normalizing the 'channels' axis. Note that there is no ReLU activation function in this component.\n",
        "\n",
        "Shortcut path:\n",
        "- The CONV2D has $F_3$ filters of shape (1,1) and a stride of (s,s). Its padding is \"valid\".\n",
        "- The BatchNorm is normalizing the 'channels' axis.\n",
        "\n",
        "Final step:\n",
        "- The shortcut and the main path values are added together.\n",
        "- Then apply the ReLU activation function. This has no hyperparameters.\n",
        "\n",
        "<a name='ex-2'></a>    \n",
        "### Exercise 2 - convolutional_block\n",
        "    \n",
        "Implement the convolutional block. The first component of the main path is already implemented; then it's your turn to implement the rest!\n",
        "- To implement the Conv2D step: [Conv2d](https://pytorch.org/docs/stable/generated/torch.nn.Conv2d.html)\n",
        "- To implement BatchNorm: [BatchNorm2d](https://pytorch.org/docs/stable/generated/torch.nn.BatchNorm2d.html)\n",
        "- For the activation, use: [ReLU](https://pytorch.org/docs/stable/generated/torch.nn.ReLU.html)"
      ]
    },
    {
      "cell_type": "code",
      "source": [
        "class convolutional_block(nn.Module):\n",
        "    def __init__(self, f, filters, s, in_channels):\n",
        "        \"\"\"\n",
        "        Define components used in identity_block\n",
        "\n",
        "        Arguments:\n",
        "        f -- integer, specifying the shape of the middle CONV's window for the main path\n",
        "        filters -- python list of integers, defining the number of filters in the CONV layers of the main path\n",
        "        in_channels -- number of channels in the input image\n",
        "        s -- Integer, specifying the stride to be used\n",
        "        \"\"\"\n",
        "        super(convolutional_block, self).__init__()\n",
        "\n",
        "        F1, F2, F3 = filters\n",
        "\n",
        "        #First component of the main path\n",
        "        self.conv2d_1 = nn.Conv2d(in_channels, F1, kernel_size=1, stride=s)\n",
        "        self.bn_1 = nn.BatchNorm2d(F1)\n",
        "        self.relu_1 = nn.ReLU()\n",
        "\n",
        "        #Second component of the main path\n",
        "        ### START CODE HERE\n",
        "\n",
        "        #Third component of the main path\n",
        "\n",
        "        #Shortcut path\n",
        "\n",
        "        ### END CODE HERE\n",
        "\n",
        "        # Final ReLU layer\n",
        "        self.relu_3 = nn.ReLU()\n",
        "\n",
        "    def forward(self, x):\n",
        "        x_shortcut = x\n",
        "\n",
        "        # First component of main path\n",
        "        x = self.conv2d_1(x)\n",
        "        x = self.bn_1(x)\n",
        "        x = self.relu_1(x)\n",
        "\n",
        "        ### START CODE HERE\n",
        "        ## Second component of main path (≈3 lines)\n",
        "\n",
        "        ## Third component of main path (≈2 lines)\n",
        "\n",
        "        ##### SHORTCUT PATH ##### (≈2 lines)\n",
        "\n",
        "        ### END CODE HERE\n",
        "\n",
        "        # Final step: Add shortcut value to main path, and pass it through a RELU activation\n",
        "        x += x_shortcut\n",
        "        x = self.relu_3(x)\n",
        "\n",
        "        return x"
      ],
      "metadata": {
        "id": "BszECZ870d0l"
      },
      "execution_count": null,
      "outputs": []
    },
    {
      "cell_type": "markdown",
      "metadata": {
        "id": "oNRV5Fq1q1Lk"
      },
      "source": [
        "<a name='4'></a>  \n",
        "## 4 - Building Your First ResNet Model (50 layers)\n",
        "\n",
        "You now have the necessary blocks to build a very deep ResNet. The following figure describes in detail the architecture of this neural network. \"ID BLOCK\" in the diagram stands for \"Identity block,\" and \"ID BLOCK x3\" means you should stack 3 identity blocks together.\n",
        "\n",
        "<img src=\"https://raw.githubusercontent.com/tcuseniordesign/deep-learning-hw7-1/main/images/resnet.png\" style=\"width:850px;height:150px;\">\n",
        "<caption><center> <u> <font color='purple'> <b>Figure 5</b> </u><font color='purple'>  : <b>ResNet-50 model</b> </center></caption>\n",
        "\n",
        "The details of this ResNet-50 model are:\n",
        "- Zero-padding pads the input with a pad of (3,3)\n",
        "- Stage 1:\n",
        "    - The 2D Convolution has 64 filters of shape (7,7) and uses a stride of (2,2).\n",
        "    - BatchNorm is applied to the 'channels' axis of the input.\n",
        "    - MaxPooling uses a (3,3) window and a (2,2) stride.\n",
        "- Stage 2:\n",
        "    - The convolutional block uses three sets of filters of size [64,64,256], \"f\" is 3, and \"s\" is 1.\n",
        "    - The 2 identity blocks use three sets of filters of size [64,64,256], and \"f\" is 3.\n",
        "- Stage 3:\n",
        "    - The convolutional block uses three sets of filters of size [128,128,512], \"f\" is 3 and \"s\" is 2.\n",
        "    - The 3 identity blocks use three sets of filters of size [128,128,512] and \"f\" is 3.\n",
        "- Stage 4:\n",
        "    - The convolutional block uses three sets of filters of size [256, 256, 1024], \"f\" is 3 and \"s\" is 2.\n",
        "    - The 5 identity blocks use three sets of filters of size [256, 256, 1024] and \"f\" is 3.\n",
        "- Stage 5:\n",
        "    - The convolutional block uses three sets of filters of size [512, 512, 2048], \"f\" is 3 and \"s\" is 2.\n",
        "    - The 2 identity blocks use three sets of filters of size [512, 512, 2048] and \"f\" is 3.\n",
        "- The 2D Average Pooling uses a window of shape (2,2).\n",
        "- The 'flatten' layer doesn't have any hyperparameters.\n",
        "- The Fully Connected (Dense) layer reduces its input to the number of classes using a softmax activation.\n",
        "\n",
        "    \n",
        "<a name='ex-3'></a>      \n",
        "### Exercise 3 - ResNet50\n",
        "    \n",
        "Implement the ResNet with 50 layers described in the figure above. We have implemented Stages 1 and 2. Please implement the rest (The syntax for implementing Stages 3-5 should be quite similar to that of Stage 2). Make sure you follow the naming convention in the text above.\n",
        "\n",
        "You'll need to use this function:\n",
        "- Average pooling [see reference](https://pytorch.org/docs/stable/generated/torch.nn.AvgPool2d.html)\n",
        "\n",
        "Here are some other functions we used in the code below:\n",
        "- To implement the Conv2D step: [Conv2d](https://pytorch.org/docs/stable/generated/torch.nn.Conv2d.html)\n",
        "- To implement BatchNorm: [BatchNorm2d](https://pytorch.org/docs/stable/generated/torch.nn.BatchNorm2d.html)\n",
        "- For the activation, use: [ReLU](https://pytorch.org/docs/stable/generated/torch.nn.ReLU.html)\n",
        "- Zero padding: [See reference](https://pytorch.org/docs/stable/generated/torch.nn.ZeroPad2d.html)\n",
        "- Max pooling: [See reference](https://pytorch.org/docs/stable/generated/torch.nn.MaxPool2d.html)\n",
        "- Fully connected layer: [See reference](https://pytorch.org/docs/stable/generated/torch.nn.Linear.html)"
      ]
    },
    {
      "cell_type": "markdown",
      "source": [
        "Click \"Runetime\", then click \"Change runtime type\". Select \"GPU\" for Hardware accelerator. You can compare the speed between \"GPU\" and \"CPU\"."
      ],
      "metadata": {
        "id": "HI9BVM0pzKNT"
      }
    },
    {
      "cell_type": "code",
      "source": [
        "num_classes = 6\n",
        "device = \"cuda\" if torch.cuda.is_available() else \"cpu\"\n",
        "device"
      ],
      "metadata": {
        "id": "TkFbpCBj6L2Z",
        "colab": {
          "base_uri": "https://localhost:8080/",
          "height": 35
        },
        "outputId": "1cbc503e-b7c0-4e2d-94b2-cabcf247404a"
      },
      "execution_count": null,
      "outputs": [
        {
          "output_type": "execute_result",
          "data": {
            "text/plain": [
              "'cuda'"
            ],
            "application/vnd.google.colaboratory.intrinsic+json": {
              "type": "string"
            }
          },
          "metadata": {},
          "execution_count": 54
        }
      ]
    },
    {
      "cell_type": "code",
      "source": [
        "ResNet50 = nn.Sequential(\n",
        "    nn.ZeroPad2d(3),\n",
        "\n",
        "    #Stage 1\n",
        "    nn.Conv2d(in_channels=3, out_channels=64, kernel_size=7, stride=2),\n",
        "    nn.BatchNorm2d(64),\n",
        "    nn.MaxPool2d(kernel_size=3, stride=2),\n",
        "\n",
        "    #Stage 2\n",
        "    convolutional_block(f=3, filters=[64, 64, 256], s=1, in_channels=64),\n",
        "    identity_block(f=3, filters=[64, 64, 256], in_channels=256),\n",
        "    identity_block(f=3, filters=[64, 64, 256], in_channels=256),\n",
        "\n",
        "    ### START CODE HERE\n",
        "    ## Stage 3 (≈4 lines)\n",
        "\n",
        "    ## Stage 4 (≈6 lines)\n",
        "\n",
        "    ## Stage 5 (≈3 lines)\n",
        "\n",
        "    ## AVGPOOL (≈1 line).\n",
        "\n",
        "    ### END CODE HERE\n",
        "\n",
        "    # output layer\n",
        "    nn.Flatten(),\n",
        "    nn.Linear(2048, num_classes)\n",
        ").to(device)"
      ],
      "metadata": {
        "id": "hy71UBsr4zwl"
      },
      "execution_count": null,
      "outputs": []
    },
    {
      "cell_type": "markdown",
      "metadata": {
        "id": "PAW0MhZxq1Lk"
      },
      "source": [
        "See the details of this model."
      ]
    },
    {
      "cell_type": "code",
      "execution_count": null,
      "metadata": {
        "id": "Rm0WoI7vq1Lk",
        "outputId": "6384f73e-59c0-41ae-ee74-ff150070ba2d",
        "colab": {
          "base_uri": "https://localhost:8080/"
        }
      },
      "outputs": [
        {
          "output_type": "execute_result",
          "data": {
            "text/plain": [
              "Sequential(\n",
              "  (0): ZeroPad2d((3, 3, 3, 3))\n",
              "  (1): Conv2d(3, 64, kernel_size=(7, 7), stride=(2, 2))\n",
              "  (2): BatchNorm2d(64, eps=1e-05, momentum=0.1, affine=True, track_running_stats=True)\n",
              "  (3): MaxPool2d(kernel_size=3, stride=2, padding=0, dilation=1, ceil_mode=False)\n",
              "  (4): convolutional_block(\n",
              "    (conv2d_1): Conv2d(64, 64, kernel_size=(1, 1), stride=(1, 1))\n",
              "    (bn_1): BatchNorm2d(64, eps=1e-05, momentum=0.1, affine=True, track_running_stats=True)\n",
              "    (relu_1): ReLU()\n",
              "    (conv2d_2): Conv2d(64, 64, kernel_size=(3, 3), stride=(1, 1), padding=same)\n",
              "    (bn_2): BatchNorm2d(64, eps=1e-05, momentum=0.1, affine=True, track_running_stats=True)\n",
              "    (relu_2): ReLU()\n",
              "    (conv2d_3): Conv2d(64, 256, kernel_size=(1, 1), stride=(1, 1))\n",
              "    (bn_3): BatchNorm2d(256, eps=1e-05, momentum=0.1, affine=True, track_running_stats=True)\n",
              "    (conv2d_shortcut): Conv2d(64, 256, kernel_size=(1, 1), stride=(1, 1))\n",
              "    (bn_shortcut): BatchNorm2d(256, eps=1e-05, momentum=0.1, affine=True, track_running_stats=True)\n",
              "    (relu_3): ReLU()\n",
              "  )\n",
              "  (5): identity_block(\n",
              "    (conv2d_1): Conv2d(256, 64, kernel_size=(1, 1), stride=(1, 1))\n",
              "    (bn_1): BatchNorm2d(64, eps=1e-05, momentum=0.1, affine=True, track_running_stats=True)\n",
              "    (relu_1): ReLU()\n",
              "    (conv2d_2): Conv2d(64, 64, kernel_size=(3, 3), stride=(1, 1), padding=same)\n",
              "    (bn_2): BatchNorm2d(64, eps=1e-05, momentum=0.1, affine=True, track_running_stats=True)\n",
              "    (relu_2): ReLU()\n",
              "    (conv2d_3): Conv2d(64, 256, kernel_size=(1, 1), stride=(1, 1))\n",
              "    (bn_3): BatchNorm2d(256, eps=1e-05, momentum=0.1, affine=True, track_running_stats=True)\n",
              "    (relu_3): ReLU()\n",
              "  )\n",
              "  (6): identity_block(\n",
              "    (conv2d_1): Conv2d(256, 64, kernel_size=(1, 1), stride=(1, 1))\n",
              "    (bn_1): BatchNorm2d(64, eps=1e-05, momentum=0.1, affine=True, track_running_stats=True)\n",
              "    (relu_1): ReLU()\n",
              "    (conv2d_2): Conv2d(64, 64, kernel_size=(3, 3), stride=(1, 1), padding=same)\n",
              "    (bn_2): BatchNorm2d(64, eps=1e-05, momentum=0.1, affine=True, track_running_stats=True)\n",
              "    (relu_2): ReLU()\n",
              "    (conv2d_3): Conv2d(64, 256, kernel_size=(1, 1), stride=(1, 1))\n",
              "    (bn_3): BatchNorm2d(256, eps=1e-05, momentum=0.1, affine=True, track_running_stats=True)\n",
              "    (relu_3): ReLU()\n",
              "  )\n",
              "  (7): convolutional_block(\n",
              "    (conv2d_1): Conv2d(256, 128, kernel_size=(1, 1), stride=(2, 2))\n",
              "    (bn_1): BatchNorm2d(128, eps=1e-05, momentum=0.1, affine=True, track_running_stats=True)\n",
              "    (relu_1): ReLU()\n",
              "    (conv2d_2): Conv2d(128, 128, kernel_size=(3, 3), stride=(1, 1), padding=same)\n",
              "    (bn_2): BatchNorm2d(128, eps=1e-05, momentum=0.1, affine=True, track_running_stats=True)\n",
              "    (relu_2): ReLU()\n",
              "    (conv2d_3): Conv2d(128, 512, kernel_size=(1, 1), stride=(1, 1))\n",
              "    (bn_3): BatchNorm2d(512, eps=1e-05, momentum=0.1, affine=True, track_running_stats=True)\n",
              "    (conv2d_shortcut): Conv2d(256, 512, kernel_size=(1, 1), stride=(2, 2))\n",
              "    (bn_shortcut): BatchNorm2d(512, eps=1e-05, momentum=0.1, affine=True, track_running_stats=True)\n",
              "    (relu_3): ReLU()\n",
              "  )\n",
              "  (8): identity_block(\n",
              "    (conv2d_1): Conv2d(512, 128, kernel_size=(1, 1), stride=(1, 1))\n",
              "    (bn_1): BatchNorm2d(128, eps=1e-05, momentum=0.1, affine=True, track_running_stats=True)\n",
              "    (relu_1): ReLU()\n",
              "    (conv2d_2): Conv2d(128, 128, kernel_size=(3, 3), stride=(1, 1), padding=same)\n",
              "    (bn_2): BatchNorm2d(128, eps=1e-05, momentum=0.1, affine=True, track_running_stats=True)\n",
              "    (relu_2): ReLU()\n",
              "    (conv2d_3): Conv2d(128, 512, kernel_size=(1, 1), stride=(1, 1))\n",
              "    (bn_3): BatchNorm2d(512, eps=1e-05, momentum=0.1, affine=True, track_running_stats=True)\n",
              "    (relu_3): ReLU()\n",
              "  )\n",
              "  (9): identity_block(\n",
              "    (conv2d_1): Conv2d(512, 128, kernel_size=(1, 1), stride=(1, 1))\n",
              "    (bn_1): BatchNorm2d(128, eps=1e-05, momentum=0.1, affine=True, track_running_stats=True)\n",
              "    (relu_1): ReLU()\n",
              "    (conv2d_2): Conv2d(128, 128, kernel_size=(3, 3), stride=(1, 1), padding=same)\n",
              "    (bn_2): BatchNorm2d(128, eps=1e-05, momentum=0.1, affine=True, track_running_stats=True)\n",
              "    (relu_2): ReLU()\n",
              "    (conv2d_3): Conv2d(128, 512, kernel_size=(1, 1), stride=(1, 1))\n",
              "    (bn_3): BatchNorm2d(512, eps=1e-05, momentum=0.1, affine=True, track_running_stats=True)\n",
              "    (relu_3): ReLU()\n",
              "  )\n",
              "  (10): identity_block(\n",
              "    (conv2d_1): Conv2d(512, 128, kernel_size=(1, 1), stride=(1, 1))\n",
              "    (bn_1): BatchNorm2d(128, eps=1e-05, momentum=0.1, affine=True, track_running_stats=True)\n",
              "    (relu_1): ReLU()\n",
              "    (conv2d_2): Conv2d(128, 128, kernel_size=(3, 3), stride=(1, 1), padding=same)\n",
              "    (bn_2): BatchNorm2d(128, eps=1e-05, momentum=0.1, affine=True, track_running_stats=True)\n",
              "    (relu_2): ReLU()\n",
              "    (conv2d_3): Conv2d(128, 512, kernel_size=(1, 1), stride=(1, 1))\n",
              "    (bn_3): BatchNorm2d(512, eps=1e-05, momentum=0.1, affine=True, track_running_stats=True)\n",
              "    (relu_3): ReLU()\n",
              "  )\n",
              "  (11): convolutional_block(\n",
              "    (conv2d_1): Conv2d(512, 256, kernel_size=(1, 1), stride=(2, 2))\n",
              "    (bn_1): BatchNorm2d(256, eps=1e-05, momentum=0.1, affine=True, track_running_stats=True)\n",
              "    (relu_1): ReLU()\n",
              "    (conv2d_2): Conv2d(256, 256, kernel_size=(3, 3), stride=(1, 1), padding=same)\n",
              "    (bn_2): BatchNorm2d(256, eps=1e-05, momentum=0.1, affine=True, track_running_stats=True)\n",
              "    (relu_2): ReLU()\n",
              "    (conv2d_3): Conv2d(256, 1024, kernel_size=(1, 1), stride=(1, 1))\n",
              "    (bn_3): BatchNorm2d(1024, eps=1e-05, momentum=0.1, affine=True, track_running_stats=True)\n",
              "    (conv2d_shortcut): Conv2d(512, 1024, kernel_size=(1, 1), stride=(2, 2))\n",
              "    (bn_shortcut): BatchNorm2d(1024, eps=1e-05, momentum=0.1, affine=True, track_running_stats=True)\n",
              "    (relu_3): ReLU()\n",
              "  )\n",
              "  (12): identity_block(\n",
              "    (conv2d_1): Conv2d(1024, 256, kernel_size=(1, 1), stride=(1, 1))\n",
              "    (bn_1): BatchNorm2d(256, eps=1e-05, momentum=0.1, affine=True, track_running_stats=True)\n",
              "    (relu_1): ReLU()\n",
              "    (conv2d_2): Conv2d(256, 256, kernel_size=(3, 3), stride=(1, 1), padding=same)\n",
              "    (bn_2): BatchNorm2d(256, eps=1e-05, momentum=0.1, affine=True, track_running_stats=True)\n",
              "    (relu_2): ReLU()\n",
              "    (conv2d_3): Conv2d(256, 1024, kernel_size=(1, 1), stride=(1, 1))\n",
              "    (bn_3): BatchNorm2d(1024, eps=1e-05, momentum=0.1, affine=True, track_running_stats=True)\n",
              "    (relu_3): ReLU()\n",
              "  )\n",
              "  (13): identity_block(\n",
              "    (conv2d_1): Conv2d(1024, 256, kernel_size=(1, 1), stride=(1, 1))\n",
              "    (bn_1): BatchNorm2d(256, eps=1e-05, momentum=0.1, affine=True, track_running_stats=True)\n",
              "    (relu_1): ReLU()\n",
              "    (conv2d_2): Conv2d(256, 256, kernel_size=(3, 3), stride=(1, 1), padding=same)\n",
              "    (bn_2): BatchNorm2d(256, eps=1e-05, momentum=0.1, affine=True, track_running_stats=True)\n",
              "    (relu_2): ReLU()\n",
              "    (conv2d_3): Conv2d(256, 1024, kernel_size=(1, 1), stride=(1, 1))\n",
              "    (bn_3): BatchNorm2d(1024, eps=1e-05, momentum=0.1, affine=True, track_running_stats=True)\n",
              "    (relu_3): ReLU()\n",
              "  )\n",
              "  (14): identity_block(\n",
              "    (conv2d_1): Conv2d(1024, 256, kernel_size=(1, 1), stride=(1, 1))\n",
              "    (bn_1): BatchNorm2d(256, eps=1e-05, momentum=0.1, affine=True, track_running_stats=True)\n",
              "    (relu_1): ReLU()\n",
              "    (conv2d_2): Conv2d(256, 256, kernel_size=(3, 3), stride=(1, 1), padding=same)\n",
              "    (bn_2): BatchNorm2d(256, eps=1e-05, momentum=0.1, affine=True, track_running_stats=True)\n",
              "    (relu_2): ReLU()\n",
              "    (conv2d_3): Conv2d(256, 1024, kernel_size=(1, 1), stride=(1, 1))\n",
              "    (bn_3): BatchNorm2d(1024, eps=1e-05, momentum=0.1, affine=True, track_running_stats=True)\n",
              "    (relu_3): ReLU()\n",
              "  )\n",
              "  (15): identity_block(\n",
              "    (conv2d_1): Conv2d(1024, 256, kernel_size=(1, 1), stride=(1, 1))\n",
              "    (bn_1): BatchNorm2d(256, eps=1e-05, momentum=0.1, affine=True, track_running_stats=True)\n",
              "    (relu_1): ReLU()\n",
              "    (conv2d_2): Conv2d(256, 256, kernel_size=(3, 3), stride=(1, 1), padding=same)\n",
              "    (bn_2): BatchNorm2d(256, eps=1e-05, momentum=0.1, affine=True, track_running_stats=True)\n",
              "    (relu_2): ReLU()\n",
              "    (conv2d_3): Conv2d(256, 1024, kernel_size=(1, 1), stride=(1, 1))\n",
              "    (bn_3): BatchNorm2d(1024, eps=1e-05, momentum=0.1, affine=True, track_running_stats=True)\n",
              "    (relu_3): ReLU()\n",
              "  )\n",
              "  (16): identity_block(\n",
              "    (conv2d_1): Conv2d(1024, 256, kernel_size=(1, 1), stride=(1, 1))\n",
              "    (bn_1): BatchNorm2d(256, eps=1e-05, momentum=0.1, affine=True, track_running_stats=True)\n",
              "    (relu_1): ReLU()\n",
              "    (conv2d_2): Conv2d(256, 256, kernel_size=(3, 3), stride=(1, 1), padding=same)\n",
              "    (bn_2): BatchNorm2d(256, eps=1e-05, momentum=0.1, affine=True, track_running_stats=True)\n",
              "    (relu_2): ReLU()\n",
              "    (conv2d_3): Conv2d(256, 1024, kernel_size=(1, 1), stride=(1, 1))\n",
              "    (bn_3): BatchNorm2d(1024, eps=1e-05, momentum=0.1, affine=True, track_running_stats=True)\n",
              "    (relu_3): ReLU()\n",
              "  )\n",
              "  (17): convolutional_block(\n",
              "    (conv2d_1): Conv2d(1024, 512, kernel_size=(1, 1), stride=(2, 2))\n",
              "    (bn_1): BatchNorm2d(512, eps=1e-05, momentum=0.1, affine=True, track_running_stats=True)\n",
              "    (relu_1): ReLU()\n",
              "    (conv2d_2): Conv2d(512, 512, kernel_size=(3, 3), stride=(1, 1), padding=same)\n",
              "    (bn_2): BatchNorm2d(512, eps=1e-05, momentum=0.1, affine=True, track_running_stats=True)\n",
              "    (relu_2): ReLU()\n",
              "    (conv2d_3): Conv2d(512, 2048, kernel_size=(1, 1), stride=(1, 1))\n",
              "    (bn_3): BatchNorm2d(2048, eps=1e-05, momentum=0.1, affine=True, track_running_stats=True)\n",
              "    (conv2d_shortcut): Conv2d(1024, 2048, kernel_size=(1, 1), stride=(2, 2))\n",
              "    (bn_shortcut): BatchNorm2d(2048, eps=1e-05, momentum=0.1, affine=True, track_running_stats=True)\n",
              "    (relu_3): ReLU()\n",
              "  )\n",
              "  (18): identity_block(\n",
              "    (conv2d_1): Conv2d(2048, 512, kernel_size=(1, 1), stride=(1, 1))\n",
              "    (bn_1): BatchNorm2d(512, eps=1e-05, momentum=0.1, affine=True, track_running_stats=True)\n",
              "    (relu_1): ReLU()\n",
              "    (conv2d_2): Conv2d(512, 512, kernel_size=(3, 3), stride=(1, 1), padding=same)\n",
              "    (bn_2): BatchNorm2d(512, eps=1e-05, momentum=0.1, affine=True, track_running_stats=True)\n",
              "    (relu_2): ReLU()\n",
              "    (conv2d_3): Conv2d(512, 2048, kernel_size=(1, 1), stride=(1, 1))\n",
              "    (bn_3): BatchNorm2d(2048, eps=1e-05, momentum=0.1, affine=True, track_running_stats=True)\n",
              "    (relu_3): ReLU()\n",
              "  )\n",
              "  (19): identity_block(\n",
              "    (conv2d_1): Conv2d(2048, 512, kernel_size=(1, 1), stride=(1, 1))\n",
              "    (bn_1): BatchNorm2d(512, eps=1e-05, momentum=0.1, affine=True, track_running_stats=True)\n",
              "    (relu_1): ReLU()\n",
              "    (conv2d_2): Conv2d(512, 512, kernel_size=(3, 3), stride=(1, 1), padding=same)\n",
              "    (bn_2): BatchNorm2d(512, eps=1e-05, momentum=0.1, affine=True, track_running_stats=True)\n",
              "    (relu_2): ReLU()\n",
              "    (conv2d_3): Conv2d(512, 2048, kernel_size=(1, 1), stride=(1, 1))\n",
              "    (bn_3): BatchNorm2d(2048, eps=1e-05, momentum=0.1, affine=True, track_running_stats=True)\n",
              "    (relu_3): ReLU()\n",
              "  )\n",
              "  (20): AvgPool2d(kernel_size=2, stride=2, padding=0)\n",
              "  (21): Flatten(start_dim=1, end_dim=-1)\n",
              "  (22): Linear(in_features=2048, out_features=6, bias=True)\n",
              ")"
            ]
          },
          "metadata": {},
          "execution_count": 56
        }
      ],
      "source": [
        "ResNet50"
      ]
    },
    {
      "cell_type": "markdown",
      "source": [
        "Define a loss function and an optimizer."
      ],
      "metadata": {
        "id": "RaWroLt8_g8G"
      }
    },
    {
      "cell_type": "code",
      "source": [
        "#Set up loss function and optimizer\n",
        "loss_fn = nn.CrossEntropyLoss()\n",
        "optimizer = torch.optim.Adam(ResNet50.parameters(), lr=1e-3)"
      ],
      "metadata": {
        "id": "dCkNnEwx_gif"
      },
      "execution_count": null,
      "outputs": []
    },
    {
      "cell_type": "markdown",
      "metadata": {
        "id": "yiz4a-t-q1Ll"
      },
      "source": [
        "The model is now ready to be trained. The only thing you need is a dataset.\n",
        "\n",
        "Let's load your old friend, the SIGNS dataset.\n",
        "\n",
        "<img src=\"https://raw.githubusercontent.com/tcuseniordesign/deep-learning-hw7-1/main/images/signs_data.png\" style=\"width:450px;height:250px;\">\n",
        "<caption><center> <u> <font color='purple'> <b>Figure 6</b> </u><font color='purple'>  : <b>SIGNS dataset</b> </center></caption>\n"
      ]
    },
    {
      "cell_type": "code",
      "execution_count": null,
      "metadata": {
        "scrolled": true,
        "id": "iACUeY-Fq1Ll",
        "outputId": "11ad6678-2515-4beb-f284-2e081b428403",
        "colab": {
          "base_uri": "https://localhost:8080/"
        }
      },
      "outputs": [
        {
          "output_type": "stream",
          "name": "stdout",
          "text": [
            "number of training examples = 1080\n",
            "number of test examples = 120\n",
            "X_train shape: (1080, 3, 64, 64)\n",
            "Y_train shape: (1080,)\n",
            "X_test shape: (120, 3, 64, 64)\n",
            "Y_test shape: (120,)\n"
          ]
        }
      ],
      "source": [
        "# Loading the data (signs)\n",
        "X_train_orig, Y_train, X_test_orig, Y_test, classes = load_dataset()\n",
        "\n",
        "#swap axes to make them usable by PyTorch\n",
        "X_train_orig = np.transpose(X_train_orig, (0, 3, 1, 2))\n",
        "X_test_orig = np.transpose(X_test_orig, (0, 3, 1, 2))\n",
        "\n",
        "Y_train = Y_train.ravel() # If CrossEntropy loss is used, the target/ground truth can be the label value (0 - 5). No need to convert to one-hot encoding.\n",
        "Y_test = Y_test.ravel()\n",
        "\n",
        "# Normalize image vectors\n",
        "X_train = X_train_orig/255.\n",
        "X_test = X_test_orig/255.\n",
        "\n",
        "print (\"number of training examples = \" + str(X_train.shape[0]))\n",
        "print (\"number of test examples = \" + str(X_test.shape[0]))\n",
        "print (\"X_train shape: \" + str(X_train.shape))\n",
        "print (\"Y_train shape: \" + str(Y_train.shape))\n",
        "print (\"X_test shape: \" + str(X_test.shape))\n",
        "print (\"Y_test shape: \" + str(Y_test.shape))"
      ]
    },
    {
      "cell_type": "code",
      "source": [
        "# Setup the batch size hyperparameter\n",
        "BATCH_SIZE = 32\n",
        "\n",
        "X_train_tensor = torch.from_numpy(X_train).type(torch.float)\n",
        "Y_train_tensor = torch.from_numpy(Y_train).type(torch.LongTensor)\n",
        "\n",
        "X_test_tensor = torch.from_numpy(X_test).type(torch.float)\n",
        "Y_test_tensor = torch.from_numpy(Y_test).type(torch.LongTensor)\n",
        "\n",
        "train_dataset = TensorDataset(X_train_tensor, Y_train_tensor)\n",
        "test_dataset = TensorDataset(X_test_tensor, Y_test_tensor)\n",
        "\n",
        "train_dataloader = DataLoader(train_dataset, batch_size=BATCH_SIZE, shuffle=True)\n",
        "test_dataloader = DataLoader(test_dataset, batch_size=BATCH_SIZE, shuffle=True)"
      ],
      "metadata": {
        "id": "IHeZTRCPAIjm"
      },
      "execution_count": null,
      "outputs": []
    },
    {
      "cell_type": "markdown",
      "metadata": {
        "id": "RysmhaeVq1Lm"
      },
      "source": [
        "Run the following cell to train your model on 2 epochs with a batch size of 32. On a GPU, it should take less than 2 minutes."
      ]
    },
    {
      "cell_type": "code",
      "execution_count": null,
      "metadata": {
        "scrolled": false,
        "id": "DlnGiWXxq1Lm"
      },
      "outputs": [],
      "source": [
        "# Calculate accuracy (a classification metric)\n",
        "def accuracy(y_true, y_pred_logits):\n",
        "    correct = torch.eq(y_true, y_pred_logits.argmax(dim=1)).sum().item() # torch.eq() calculates where two tensors are equal\n",
        "    acc = (correct / len(y_pred_logits)) * 100\n",
        "    return acc"
      ]
    },
    {
      "cell_type": "code",
      "source": [
        "from timeit import default_timer as timer\n",
        "def print_train_time(start: float, end: float, device: torch.device = None):\n",
        "    \"\"\"Prints difference between start and end time.\n",
        "\n",
        "    Args:\n",
        "        start (float): Start time of computation (preferred in timeit format).\n",
        "        end (float): End time of computation.\n",
        "        device ([type], optional): Device that compute is running on. Defaults to None.\n",
        "\n",
        "    Returns:\n",
        "        float: time between start and end in seconds (higher is longer).\n",
        "    \"\"\"\n",
        "    total_time = end - start\n",
        "    print(f\"Train time on {device}: {total_time:.3f} seconds\")\n",
        "    return total_time"
      ],
      "metadata": {
        "id": "3VUmPwtasKQz"
      },
      "execution_count": null,
      "outputs": []
    },
    {
      "cell_type": "markdown",
      "source": [
        "Time to launch training!"
      ],
      "metadata": {
        "id": "HC4gTbvRtL6C"
      }
    },
    {
      "cell_type": "code",
      "source": [
        "# Import tqdm for progress bar\n",
        "from tqdm.auto import tqdm\n",
        "\n",
        "# Set the seed and start the timer\n",
        "torch.manual_seed(42)\n",
        "train_time_start_on_cpu = timer()\n",
        "\n",
        "# Set the number of epochs (Make sure you use GPU, otherwise it will be very slow)\n",
        "epochs = 10\n",
        "\n",
        "# Create training and testing loop\n",
        "for epoch in tqdm(range(epochs)):\n",
        "    print(f\"Epoch: {epoch}\\n-------\")\n",
        "    ### Training\n",
        "    train_loss, train_acc = 0, 0\n",
        "    # Add a loop to loop through training batches\n",
        "    for batch, (X, y) in enumerate(train_dataloader):\n",
        "        X, y = X.to(device), y.to(device)\n",
        "        ResNet50.train()\n",
        "        # 1. Forward pass\n",
        "        y_logits = ResNet50(X)\n",
        "        # 2. Calculate loss (per batch)\n",
        "        loss = loss_fn(y_logits, y) # y_logits is (35, 6) and y is (32,)\n",
        "        train_loss += loss # accumulatively add up the loss per epoch\n",
        "\n",
        "        train_acc += accuracy(y_true=y,\n",
        "                                y_pred_logits=y_logits)\n",
        "\n",
        "        # 3. Optimizer zero grad\n",
        "        optimizer.zero_grad()\n",
        "\n",
        "        # 4. Loss backward\n",
        "        loss.backward()\n",
        "\n",
        "        # 5. Optimizer step\n",
        "        optimizer.step()\n",
        "\n",
        "        # Print out how many samples have been seen\n",
        "        if batch % 10 == 0:\n",
        "            print(f\"Looked at {batch * len(X)}/{len(train_dataloader.dataset)} samples\")\n",
        "\n",
        "    # Divide total train loss and train accuray by length of train dataloader (per batch)\n",
        "    train_loss /= len(train_dataloader)\n",
        "    train_acc /= len(train_dataloader)\n",
        "\n",
        "    ### Testing\n",
        "    # Setup variables for accumulatively adding up loss and accuracy\n",
        "    test_loss, test_acc = 0, 0\n",
        "    ResNet50.eval()\n",
        "    with torch.inference_mode():\n",
        "        for X, y in test_dataloader:\n",
        "            X, y = X.to(device), y.to(device)\n",
        "            # 1. Forward pass\n",
        "            test_logits = ResNet50(X)\n",
        "\n",
        "            # 2. Calculate loss (accumatively)\n",
        "            test_loss += loss_fn(test_logits, y) # accumulatively add up the loss per epoch\n",
        "\n",
        "            # 3. Calculate accuracy (preds need to be same as y_true)\n",
        "            test_acc += accuracy(y_true=y, y_pred_logits=test_logits)\n",
        "\n",
        "        # Calculations on test metrics need to happen inside torch.inference_mode()\n",
        "        # Divide total test loss by length of test dataloader (per batch)\n",
        "        test_loss /= len(test_dataloader)\n",
        "\n",
        "        # Divide total accuracy by length of test dataloader (per batch)\n",
        "        test_acc /= len(test_dataloader)\n",
        "\n",
        "    ## Print out what's happening\n",
        "    print(f\"\\nTrain loss: {train_loss:.5f} | Train accuracy: {train_acc:.2f}% | Test loss: {test_loss:.5f}, Test acc: {test_acc:.2f}%\\n\")\n",
        "\n",
        "# Calculate training time\n",
        "train_time_end_on_cpu = timer()\n",
        "total_train_time_model_0 = print_train_time(start=train_time_start_on_cpu,\n",
        "                                           end=train_time_end_on_cpu,\n",
        "                                           device=str(next(ResNet50.parameters()).device))"
      ],
      "metadata": {
        "colab": {
          "base_uri": "https://localhost:8080/",
          "height": 1000,
          "referenced_widgets": [
            "2244ac8287004fb0a00aecd3181936af",
            "ca0eae8637244d44b9b1eac9602cc12f",
            "6155392642d74fd9b2e74397c8305692",
            "b5879a2ba35c4a2db82984c39a8fd898",
            "6afb36647c2c4bb7a010d852a3bd64bf",
            "d2066dd5e8174ebbb4569b4f196d54a5",
            "b6a5a813604946d2a6a42c857fcfa607",
            "355378bbb3984e66a29aaa25d8b0d0b6",
            "8c614444bfa74cd39c827d9130ef5a3c",
            "b48d14d30e1849a699cec7c0e0cb0836",
            "6ed607027d164274a603dafbea063ee1"
          ]
        },
        "id": "9URKFv9Cr9DA",
        "outputId": "e267dea0-cce3-470a-b23f-cc8a7889c0b6"
      },
      "execution_count": null,
      "outputs": [
        {
          "output_type": "display_data",
          "data": {
            "text/plain": [
              "  0%|          | 0/10 [00:00<?, ?it/s]"
            ],
            "application/vnd.jupyter.widget-view+json": {
              "version_major": 2,
              "version_minor": 0,
              "model_id": "2244ac8287004fb0a00aecd3181936af"
            }
          },
          "metadata": {}
        },
        {
          "output_type": "stream",
          "name": "stdout",
          "text": [
            "Epoch: 0\n",
            "-------\n",
            "Looked at 0/1080 samples\n",
            "Looked at 320/1080 samples\n",
            "Looked at 640/1080 samples\n",
            "Looked at 960/1080 samples\n",
            "\n",
            "Train loss: 0.24621 | Train accuracy: 91.76% | Test loss: 0.19212, Test acc: 94.27%\n",
            "\n",
            "Epoch: 1\n",
            "-------\n",
            "Looked at 0/1080 samples\n",
            "Looked at 320/1080 samples\n",
            "Looked at 640/1080 samples\n",
            "Looked at 960/1080 samples\n",
            "\n",
            "Train loss: 0.21860 | Train accuracy: 91.94% | Test loss: 0.63748, Test acc: 79.95%\n",
            "\n",
            "Epoch: 2\n",
            "-------\n",
            "Looked at 0/1080 samples\n",
            "Looked at 320/1080 samples\n",
            "Looked at 640/1080 samples\n",
            "Looked at 960/1080 samples\n",
            "\n",
            "Train loss: 0.58837 | Train accuracy: 85.51% | Test loss: 3.34460, Test acc: 41.93%\n",
            "\n",
            "Epoch: 3\n",
            "-------\n",
            "Looked at 0/1080 samples\n",
            "Looked at 320/1080 samples\n",
            "Looked at 640/1080 samples\n",
            "Looked at 960/1080 samples\n",
            "\n",
            "Train loss: 0.36794 | Train accuracy: 89.37% | Test loss: 11.31794, Test acc: 53.39%\n",
            "\n",
            "Epoch: 4\n",
            "-------\n",
            "Looked at 0/1080 samples\n",
            "Looked at 320/1080 samples\n",
            "Looked at 640/1080 samples\n",
            "Looked at 960/1080 samples\n",
            "\n",
            "Train loss: 0.53307 | Train accuracy: 85.72% | Test loss: 0.65997, Test acc: 76.30%\n",
            "\n",
            "Epoch: 5\n",
            "-------\n",
            "Looked at 0/1080 samples\n",
            "Looked at 320/1080 samples\n",
            "Looked at 640/1080 samples\n",
            "Looked at 960/1080 samples\n",
            "\n",
            "Train loss: 0.30233 | Train accuracy: 90.59% | Test loss: 0.81688, Test acc: 73.44%\n",
            "\n",
            "Epoch: 6\n",
            "-------\n",
            "Looked at 0/1080 samples\n",
            "Looked at 320/1080 samples\n",
            "Looked at 640/1080 samples\n",
            "Looked at 960/1080 samples\n",
            "\n",
            "Train loss: 0.25139 | Train accuracy: 91.94% | Test loss: 0.17401, Test acc: 94.79%\n",
            "\n",
            "Epoch: 7\n",
            "-------\n",
            "Looked at 0/1080 samples\n",
            "Looked at 320/1080 samples\n",
            "Looked at 640/1080 samples\n",
            "Looked at 960/1080 samples\n",
            "\n",
            "Train loss: 0.10164 | Train accuracy: 96.42% | Test loss: 0.11952, Test acc: 96.61%\n",
            "\n",
            "Epoch: 8\n",
            "-------\n",
            "Looked at 0/1080 samples\n",
            "Looked at 320/1080 samples\n",
            "Looked at 640/1080 samples\n",
            "Looked at 960/1080 samples\n",
            "\n",
            "Train loss: 0.07077 | Train accuracy: 97.52% | Test loss: 0.31263, Test acc: 94.27%\n",
            "\n",
            "Epoch: 9\n",
            "-------\n",
            "Looked at 0/1080 samples\n",
            "Looked at 320/1080 samples\n",
            "Looked at 640/1080 samples\n",
            "Looked at 960/1080 samples\n",
            "\n",
            "Train loss: 0.13721 | Train accuracy: 95.10% | Test loss: 0.16712, Test acc: 94.27%\n",
            "\n",
            "Train time on cuda:0: 19.158 seconds\n"
          ]
        }
      ]
    },
    {
      "cell_type": "markdown",
      "source": [
        "Next, let's create a function make_predictions() where we can pass the model and some randome test data for it to predict on."
      ],
      "metadata": {
        "id": "Ho8PWiz4yyUx"
      }
    },
    {
      "cell_type": "code",
      "source": [
        "def make_predictions(model: torch.nn.Module, data: list):\n",
        "    pred_probs = []\n",
        "    model.eval()\n",
        "    with torch.inference_mode():\n",
        "        for sample in data:\n",
        "            # Prepare sample\n",
        "            sample = torch.unsqueeze(sample, dim=0) # Add an extra dimension\n",
        "\n",
        "            sample = sample.to(device)\n",
        "\n",
        "            # Forward pass (model outputs raw logit)\n",
        "            pred_logit = model(sample)\n",
        "\n",
        "            # Get prediction probability (logit -> prediction probability)\n",
        "            pred_prob = torch.softmax(pred_logit.squeeze(), dim=0)\n",
        "\n",
        "            # Get pred_prob off GPU for further calculations\n",
        "            pred_probs.append(pred_prob.cpu())\n",
        "\n",
        "    # Stack the pred_probs to turn list into a tensor\n",
        "    return torch.stack(pred_probs)"
      ],
      "metadata": {
        "id": "SlUbtrMowuYA"
      },
      "execution_count": null,
      "outputs": []
    },
    {
      "cell_type": "markdown",
      "source": [
        "Let's prepare some random data from the test_dataset."
      ],
      "metadata": {
        "id": "urtTk32Dy2Bw"
      }
    },
    {
      "cell_type": "code",
      "source": [
        "import random\n",
        "random.seed(42)\n",
        "test_samples = []\n",
        "test_labels = []\n",
        "for sample, label in random.sample(list(test_dataset), k=9):\n",
        "    test_samples.append(sample)\n",
        "    test_labels.append(label.item())\n",
        "\n",
        "# View the first test sample shape and label\n",
        "print(f\"Test sample image shape: {test_samples[0].shape}\\nTest sample label: {test_labels[0]} ({test_labels[0]})\")"
      ],
      "metadata": {
        "colab": {
          "base_uri": "https://localhost:8080/"
        },
        "id": "zcRgjH67ww3q",
        "outputId": "6a38255d-f07a-435b-8564-75fd2a7e3931"
      },
      "execution_count": null,
      "outputs": [
        {
          "output_type": "stream",
          "name": "stdout",
          "text": [
            "Test sample image shape: torch.Size([3, 64, 64])\n",
            "Test sample label: 0 (0)\n"
          ]
        }
      ]
    },
    {
      "cell_type": "markdown",
      "source": [
        "And now we can use our `make_predictions()` function to predict on `test_samples`."
      ],
      "metadata": {
        "id": "44-ZWvCGy43K"
      }
    },
    {
      "cell_type": "code",
      "source": [
        "# Make predictions on test samples with model 2\n",
        "pred_probs= make_predictions(model=ResNet50,\n",
        "                             data=test_samples) # ()\n",
        "\n",
        "# View first two prediction probabilities list\n",
        "pred_probs[:2]"
      ],
      "metadata": {
        "colab": {
          "base_uri": "https://localhost:8080/"
        },
        "id": "9QHh38aBxPbf",
        "outputId": "7eda9eaf-12b8-47b5-beaa-d81804c6cdab"
      },
      "execution_count": null,
      "outputs": [
        {
          "output_type": "execute_result",
          "data": {
            "text/plain": [
              "tensor([[9.9739e-01, 2.9662e-05, 4.2953e-05, 2.4807e-03, 5.6586e-06, 4.9010e-05],\n",
              "        [7.8565e-04, 9.2403e-01, 5.3747e-02, 2.3514e-04, 1.9431e-02, 1.7728e-03]])"
            ]
          },
          "metadata": {},
          "execution_count": 71
        }
      ]
    },
    {
      "cell_type": "markdown",
      "source": [
        "Excellent!\n",
        "\n",
        "And now we can go from prediction probabilities to prediction labels by taking the `torch.argmax()` of the output of the `torch.softmax()` activation function."
      ],
      "metadata": {
        "id": "dj6Hjhr1y73r"
      }
    },
    {
      "cell_type": "code",
      "source": [
        "# Turn the prediction probabilities into prediction labels by taking the argmax()\n",
        "pred_classes = pred_probs.argmax(dim=1)\n",
        "pred_classes"
      ],
      "metadata": {
        "colab": {
          "base_uri": "https://localhost:8080/"
        },
        "id": "N2OSOpOyxpk5",
        "outputId": "6f8515a0-8c3e-4b12-81fd-e5cc6f71f9fe"
      },
      "execution_count": null,
      "outputs": [
        {
          "output_type": "execute_result",
          "data": {
            "text/plain": [
              "tensor([0, 1, 5, 5, 1, 1, 1, 4, 1])"
            ]
          },
          "metadata": {},
          "execution_count": 72
        }
      ]
    },
    {
      "cell_type": "markdown",
      "source": [
        "Let's plot!"
      ],
      "metadata": {
        "id": "qhLAcs4Fy_go"
      }
    },
    {
      "cell_type": "code",
      "source": [
        "# Plot predictions\n",
        "plt.figure(figsize=(9, 9))\n",
        "nrows = 3\n",
        "ncols = 3\n",
        "for i, sample in enumerate(test_samples):\n",
        "  # Create a subplot\n",
        "  plt.subplot(nrows, ncols, i+1)\n",
        "\n",
        "  # Plot the target image\n",
        "  sample = sample.swapaxes(0, 1)\n",
        "  sample = sample.swapaxes(1, 2)\n",
        "  plt.imshow(sample.squeeze(), cmap=\"gray\")\n",
        "\n",
        "  # Find the prediction label (in text form, e.g. \"Sandal\")\n",
        "  pred_label = pred_classes[i]\n",
        "\n",
        "  # Get the truth label (in text form, e.g. \"T-shirt\")\n",
        "  truth_label = test_labels[i]\n",
        "\n",
        "  # Create the title text of the plot\n",
        "  title_text = f\"Pred: {pred_label} | Truth: {truth_label}\"\n",
        "\n",
        "  # Check for equality and change title colour accordingly\n",
        "  if pred_label == truth_label:\n",
        "      plt.title(title_text, fontsize=10, c=\"g\") # green text if correct\n",
        "  else:\n",
        "      plt.title(title_text, fontsize=10, c=\"r\") # red text if wrong\n",
        "  plt.axis(False);"
      ],
      "metadata": {
        "colab": {
          "base_uri": "https://localhost:8080/",
          "height": 534
        },
        "id": "Bznl1w-hw1So",
        "outputId": "ed22fe11-911e-4a1e-e110-817933c35949"
      },
      "execution_count": null,
      "outputs": [
        {
          "output_type": "display_data",
          "data": {
            "text/plain": [
              "<Figure size 648x648 with 9 Axes>"
            ],
            "image/png": "[encoded data removed]"
          },
          "metadata": {
            "needs_background": "light"
          }
        }
      ]
    },
    {
      "cell_type": "markdown",
      "metadata": {
        "id": "3BXZKQ-Wq1Ln"
      },
      "source": [
        "**Congratulations** on finishing this assignment! You've now implemented a state-of-the-art image classification system! Woo hoo!\n",
        "\n",
        "ResNet50 is a powerful model for image classification when it's trained for an adequate number of iterations. Hopefully, from this point, you can use what you've learned and apply it to your own classification problem to perform state-of-the-art accuracy."
      ]
    },
    {
      "cell_type": "markdown",
      "metadata": {
        "id": "Jtktt9-Kq1Ln"
      },
      "source": [
        "<font color = 'blue'>\n",
        "\n",
        "**What you should remember**:\n",
        "\n",
        "- Very deep \"plain\" networks don't work in practice because vanishing gradients make them hard to train.  \n",
        "- Skip connections help address the Vanishing Gradient problem. They also make it easy for a ResNet block to learn an identity function.\n",
        "- There are two main types of blocks: The **identity block** and the **convolutional block**.\n",
        "- Very deep Residual Networks are built by stacking these blocks together."
      ]
    },
    {
      "cell_type": "markdown",
      "metadata": {
        "id": "sD9CtiMEq1Lo"
      },
      "source": [
        "<a name='5'></a>  \n",
        "## 5 - Bibliography\n",
        "\n",
        "This notebook presents the ResNet algorithm from He et al. (2015). The implementation here also took significant inspiration and follows the structure given in the GitHub repository of Francois Chollet:\n",
        "\n",
        "- Kaiming He, Xiangyu Zhang, Shaoqing Ren, Jian Sun - [Deep Residual Learning for Image Recognition (2015)](https://arxiv.org/abs/1512.03385)\n",
        "- Francois Chollet's GitHub repository: https://github.com/fchollet/deep-learning-models/blob/master/resnet50.py\n"
      ]
    }
  ],
  "metadata": {
    "celltoolbar": "Raw Cell Format",
    "kernelspec": {
      "display_name": "Python 3",
      "language": "python",
      "name": "python3"
    },
    "language_info": {
      "codemirror_mode": {
        "name": "ipython",
        "version": 3
      },
      "file_extension": ".py",
      "mimetype": "text/x-python",
      "name": "python",
      "nbconvert_exporter": "python",
      "pygments_lexer": "ipython3",
      "version": "3.8.8"
    },
    "colab": {
      "provenance": [],
      "toc_visible": true,
      "include_colab_link": true
    },
    "accelerator": "GPU",
    "gpuClass": "standard",
    "widgets": {
      "application/vnd.jupyter.widget-state+json": {
        "2244ac8287004fb0a00aecd3181936af": {
          "model_module": "@jupyter-widgets/controls",
          "model_name": "HBoxModel",
          "model_module_version": "1.5.0",
          "state": {
            "_dom_classes": [],
            "_model_module": "@jupyter-widgets/controls",
            "_model_module_version": "1.5.0",
            "_model_name": "HBoxModel",
            "_view_count": null,
            "_view_module": "@jupyter-widgets/controls",
            "_view_module_version": "1.5.0",
            "_view_name": "HBoxView",
            "box_style": "",
            "children": [
              "IPY_MODEL_ca0eae8637244d44b9b1eac9602cc12f",
              "IPY_MODEL_6155392642d74fd9b2e74397c8305692",
              "IPY_MODEL_b5879a2ba35c4a2db82984c39a8fd898"
            ],
            "layout": "IPY_MODEL_6afb36647c2c4bb7a010d852a3bd64bf"
          }
        },
        "ca0eae8637244d44b9b1eac9602cc12f": {
          "model_module": "@jupyter-widgets/controls",
          "model_name": "HTMLModel",
          "model_module_version": "1.5.0",
          "state": {
            "_dom_classes": [],
            "_model_module": "@jupyter-widgets/controls",
            "_model_module_version": "1.5.0",
            "_model_name": "HTMLModel",
            "_view_count": null,
            "_view_module": "@jupyter-widgets/controls",
            "_view_module_version": "1.5.0",
            "_view_name": "HTMLView",
            "description": "",
            "description_tooltip": null,
            "layout": "IPY_MODEL_d2066dd5e8174ebbb4569b4f196d54a5",
            "placeholder": "​",
            "style": "IPY_MODEL_b6a5a813604946d2a6a42c857fcfa607",
            "value": "100%"
          }
        },
        "6155392642d74fd9b2e74397c8305692": {
          "model_module": "@jupyter-widgets/controls",
          "model_name": "FloatProgressModel",
          "model_module_version": "1.5.0",
          "state": {
            "_dom_classes": [],
            "_model_module": "@jupyter-widgets/controls",
            "_model_module_version": "1.5.0",
            "_model_name": "FloatProgressModel",
            "_view_count": null,
            "_view_module": "@jupyter-widgets/controls",
            "_view_module_version": "1.5.0",
            "_view_name": "ProgressView",
            "bar_style": "success",
            "description": "",
            "description_tooltip": null,
            "layout": "IPY_MODEL_355378bbb3984e66a29aaa25d8b0d0b6",
            "max": 10,
            "min": 0,
            "orientation": "horizontal",
            "style": "IPY_MODEL_8c614444bfa74cd39c827d9130ef5a3c",
            "value": 10
          }
        },
        "b5879a2ba35c4a2db82984c39a8fd898": {
          "model_module": "@jupyter-widgets/controls",
          "model_name": "HTMLModel",
          "model_module_version": "1.5.0",
          "state": {
            "_dom_classes": [],
            "_model_module": "@jupyter-widgets/controls",
            "_model_module_version": "1.5.0",
            "_model_name": "HTMLModel",
            "_view_count": null,
            "_view_module": "@jupyter-widgets/controls",
            "_view_module_version": "1.5.0",
            "_view_name": "HTMLView",
            "description": "",
            "description_tooltip": null,
            "layout": "IPY_MODEL_b48d14d30e1849a699cec7c0e0cb0836",
            "placeholder": "​",
            "style": "IPY_MODEL_6ed607027d164274a603dafbea063ee1",
            "value": " 10/10 [00:19&lt;00:00,  1.86s/it]"
          }
        },
        "6afb36647c2c4bb7a010d852a3bd64bf": {
          "model_module": "@jupyter-widgets/base",
          "model_name": "LayoutModel",
          "model_module_version": "1.2.0",
          "state": {
            "_model_module": "@jupyter-widgets/base",
            "_model_module_version": "1.2.0",
            "_model_name": "LayoutModel",
            "_view_count": null,
            "_view_module": "@jupyter-widgets/base",
            "_view_module_version": "1.2.0",
            "_view_name": "LayoutView",
            "align_content": null,
            "align_items": null,
            "align_self": null,
            "border": null,
            "bottom": null,
            "display": null,
            "flex": null,
            "flex_flow": null,
            "grid_area": null,
            "grid_auto_columns": null,
            "grid_auto_flow": null,
            "grid_auto_rows": null,
            "grid_column": null,
            "grid_gap": null,
            "grid_row": null,
            "grid_template_areas": null,
            "grid_template_columns": null,
            "grid_template_rows": null,
            "height": null,
            "justify_content": null,
            "justify_items": null,
            "left": null,
            "margin": null,
            "max_height": null,
            "max_width": null,
            "min_height": null,
            "min_width": null,
            "object_fit": null,
            "object_position": null,
            "order": null,
            "overflow": null,
            "overflow_x": null,
            "overflow_y": null,
            "padding": null,
            "right": null,
            "top": null,
            "visibility": null,
            "width": null
          }
        },
        "d2066dd5e8174ebbb4569b4f196d54a5": {
          "model_module": "@jupyter-widgets/base",
          "model_name": "LayoutModel",
          "model_module_version": "1.2.0",
          "state": {
            "_model_module": "@jupyter-widgets/base",
            "_model_module_version": "1.2.0",
            "_model_name": "LayoutModel",
            "_view_count": null,
            "_view_module": "@jupyter-widgets/base",
            "_view_module_version": "1.2.0",
            "_view_name": "LayoutView",
            "align_content": null,
            "align_items": null,
            "align_self": null,
            "border": null,
            "bottom": null,
            "display": null,
            "flex": null,
            "flex_flow": null,
            "grid_area": null,
            "grid_auto_columns": null,
            "grid_auto_flow": null,
            "grid_auto_rows": null,
            "grid_column": null,
            "grid_gap": null,
            "grid_row": null,
            "grid_template_areas": null,
            "grid_template_columns": null,
            "grid_template_rows": null,
            "height": null,
            "justify_content": null,
            "justify_items": null,
            "left": null,
            "margin": null,
            "max_height": null,
            "max_width": null,
            "min_height": null,
            "min_width": null,
            "object_fit": null,
            "object_position": null,
            "order": null,
            "overflow": null,
            "overflow_x": null,
            "overflow_y": null,
            "padding": null,
            "right": null,
            "top": null,
            "visibility": null,
            "width": null
          }
        },
        "b6a5a813604946d2a6a42c857fcfa607": {
          "model_module": "@jupyter-widgets/controls",
          "model_name": "DescriptionStyleModel",
          "model_module_version": "1.5.0",
          "state": {
            "_model_module": "@jupyter-widgets/controls",
            "_model_module_version": "1.5.0",
            "_model_name": "DescriptionStyleModel",
            "_view_count": null,
            "_view_module": "@jupyter-widgets/base",
            "_view_module_version": "1.2.0",
            "_view_name": "StyleView",
            "description_width": ""
          }
        },
        "355378bbb3984e66a29aaa25d8b0d0b6": {
          "model_module": "@jupyter-widgets/base",
          "model_name": "LayoutModel",
          "model_module_version": "1.2.0",
          "state": {
            "_model_module": "@jupyter-widgets/base",
            "_model_module_version": "1.2.0",
            "_model_name": "LayoutModel",
            "_view_count": null,
            "_view_module": "@jupyter-widgets/base",
            "_view_module_version": "1.2.0",
            "_view_name": "LayoutView",
            "align_content": null,
            "align_items": null,
            "align_self": null,
            "border": null,
            "bottom": null,
            "display": null,
            "flex": null,
            "flex_flow": null,
            "grid_area": null,
            "grid_auto_columns": null,
            "grid_auto_flow": null,
            "grid_auto_rows": null,
            "grid_column": null,
            "grid_gap": null,
            "grid_row": null,
            "grid_template_areas": null,
            "grid_template_columns": null,
            "grid_template_rows": null,
            "height": null,
            "justify_content": null,
            "justify_items": null,
            "left": null,
            "margin": null,
            "max_height": null,
            "max_width": null,
            "min_height": null,
            "min_width": null,
            "object_fit": null,
            "object_position": null,
            "order": null,
            "overflow": null,
            "overflow_x": null,
            "overflow_y": null,
            "padding": null,
            "right": null,
            "top": null,
            "visibility": null,
            "width": null
          }
        },
        "8c614444bfa74cd39c827d9130ef5a3c": {
          "model_module": "@jupyter-widgets/controls",
          "model_name": "ProgressStyleModel",
          "model_module_version": "1.5.0",
          "state": {
            "_model_module": "@jupyter-widgets/controls",
            "_model_module_version": "1.5.0",
            "_model_name": "ProgressStyleModel",
            "_view_count": null,
            "_view_module": "@jupyter-widgets/base",
            "_view_module_version": "1.2.0",
            "_view_name": "StyleView",
            "bar_color": null,
            "description_width": ""
          }
        },
        "b48d14d30e1849a699cec7c0e0cb0836": {
          "model_module": "@jupyter-widgets/base",
          "model_name": "LayoutModel",
          "model_module_version": "1.2.0",
          "state": {
            "_model_module": "@jupyter-widgets/base",
            "_model_module_version": "1.2.0",
            "_model_name": "LayoutModel",
            "_view_count": null,
            "_view_module": "@jupyter-widgets/base",
            "_view_module_version": "1.2.0",
            "_view_name": "LayoutView",
            "align_content": null,
            "align_items": null,
            "align_self": null,
            "border": null,
            "bottom": null,
            "display": null,
            "flex": null,
            "flex_flow": null,
            "grid_area": null,
            "grid_auto_columns": null,
            "grid_auto_flow": null,
            "grid_auto_rows": null,
            "grid_column": null,
            "grid_gap": null,
            "grid_row": null,
            "grid_template_areas": null,
            "grid_template_columns": null,
            "grid_template_rows": null,
            "height": null,
            "justify_content": null,
            "justify_items": null,
            "left": null,
            "margin": null,
            "max_height": null,
            "max_width": null,
            "min_height": null,
            "min_width": null,
            "object_fit": null,
            "object_position": null,
            "order": null,
            "overflow": null,
            "overflow_x": null,
            "overflow_y": null,
            "padding": null,
            "right": null,
            "top": null,
            "visibility": null,
            "width": null
          }
        },
        "6ed607027d164274a603dafbea063ee1": {
          "model_module": "@jupyter-widgets/controls",
          "model_name": "DescriptionStyleModel",
          "model_module_version": "1.5.0",
          "state": {
            "_model_module": "@jupyter-widgets/controls",
            "_model_module_version": "1.5.0",
            "_model_name": "DescriptionStyleModel",
            "_view_count": null,
            "_view_module": "@jupyter-widgets/base",
            "_view_module_version": "1.2.0",
            "_view_name": "StyleView",
            "description_width": ""
          }
        }
      }
    }
  },
  "nbformat": 4,
  "nbformat_minor": 0
}